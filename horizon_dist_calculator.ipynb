{
 "cells": [
  {
   "cell_type": "code",
   "execution_count": 1,
   "metadata": {
    "collapsed": true
   },
   "outputs": [],
   "source": [
    "import numpy as np\n",
    "import matplotlib.pyplot as plt\n",
    "from scipy import integrate as inte\n",
    "from astropy import units as u\n",
    "from astropy import constants as const"
   ]
  },
  {
   "cell_type": "code",
   "execution_count": 51,
   "metadata": {
    "collapsed": false
   },
   "outputs": [],
   "source": [
    "#constants and units\n",
    "H0 = 67.9 * u.km/u.s/u.Mpc\n",
    "c = const.c\n",
    "G = const.G.to(u.km**2 * u.Mpc /u.Msun/u.s**2)\n",
    "chirpM = 26*u.Msun\n",
    "rho_crit = (3/8/np.pi) * H0**2 /G # has dimensions of density (mass/volume)\n",
    "\n",
    "fref = 25. /u.s\n",
    "OmegaGW_limit = 4.8e-8\n",
    "Rate = 53.2 /(u.Gpc**3 * u.year)\n",
    "t_obs = 1.5 *u.year\n",
    "\n",
    "m_min = 6.7 #* u.Msun\n",
    "m_max = 41.9 #* u.Msun\n",
    "gamma = -1.4"
   ]
  },
  {
   "cell_type": "markdown",
   "metadata": {},
   "source": [
    "## Horizon Distance of a Euclidian Universe \n",
    "\n",
    "$$ r_{\\text{hor}} = \\frac{9\\Omega_{\\text{ref}} H_0^2 c^3}{8 \\mathcal{R}} (f_{\\text{ref}})^{-2/3} ( G \\pi \\mathcal{M})^{-5/3} $$ \n",
    "\n",
    "Where $\\mathcal{R}$ is the rate density of events. Here we have assumed it to be the local merger rate $\\mathcal{R}_0$. "
   ]
  },
  {
   "cell_type": "code",
   "execution_count": 4,
   "metadata": {
    "collapsed": false
   },
   "outputs": [],
   "source": [
    "def r_hor(H0,c,G,Mchirp,Omega,fref,R):\n",
    "    '''calculates the horizon distance assuming a euclidian static universe.\n",
    "    Inputs must all have astropy units.'''\n",
    "    Omegaf = Omega*np.power(fref,-2./3)\n",
    "    GpiM53 = np.power(G*np.pi*Mchirp,-5./3)\n",
    "    Hoc = H0**2 *(c**3)\n",
    "    \n",
    "    rhor = (9/(8 * R)) * Hoc * GpiM53 * Omegaf\n",
    "    return rhor"
   ]
  },
  {
   "cell_type": "code",
   "execution_count": 5,
   "metadata": {
    "collapsed": false
   },
   "outputs": [
    {
     "data": {
      "text/latex": [
       "$87.612962 \\; \\mathrm{Gpc}$"
      ],
      "text/plain": [
       "<Quantity 87.6129624038377 Gpc>"
      ]
     },
     "execution_count": 5,
     "metadata": {},
     "output_type": "execute_result"
    }
   ],
   "source": [
    "r = r_hor(H0,c,G,chirpM,OmegaGW_limit,fref,Rate)\n",
    "r.to(u.Gpc)"
   ]
  },
  {
   "cell_type": "code",
   "execution_count": 6,
   "metadata": {
    "collapsed": false
   },
   "outputs": [
    {
     "data": {
      "text/latex": [
       "$19.843462 \\; \\mathrm{}$"
      ],
      "text/plain": [
       "<Quantity 19.84346166313644>"
      ]
     },
     "execution_count": 6,
     "metadata": {},
     "output_type": "execute_result"
    }
   ],
   "source": [
    "hubble_dist = c/H0\n",
    "(r/hubble_dist).to(u.m/u.m)"
   ]
  },
  {
   "cell_type": "code",
   "execution_count": 8,
   "metadata": {
    "collapsed": false
   },
   "outputs": [
    {
     "data": {
      "text/latex": [
       "$26.116517 \\; \\mathrm{M_{\\odot}}$"
      ],
      "text/plain": [
       "<Quantity 26.1165169 solMass>"
      ]
     },
     "execution_count": 8,
     "metadata": {},
     "output_type": "execute_result"
    }
   ],
   "source": [
    "#chirp mass for two 30 solar mass BHs\n",
    "m = 30 * u.Msun\n",
    "M53 = m*m*(m+m)**(-1/3)\n",
    "M53**(3/5)"
   ]
  },
  {
   "cell_type": "code",
   "execution_count": 26,
   "metadata": {
    "collapsed": true
   },
   "outputs": [],
   "source": [
    "# if you want to integrate over observing time instead of the age of the U (this no longer makes sense)\n",
    "def r_hor_tobs(H0,c,G,Mchirp,Omega,fref,R,tobs):\n",
    "    '''calculates the horizon distance assuming a euclidian static universe.\n",
    "    Inputs must all have astropy units.'''\n",
    "    Omegaf = Omega*np.power(fref,-2./3)\n",
    "    GpiM53 = np.power(G*np.pi*Mchirp,-5./3)\n",
    "    Hoc = H0 *(c**3)\n",
    "    N = R * tobs\n",
    "    \n",
    "    rhor = (9./(8 *N)) * Hoc * GpiM53 * Omegaf\n",
    "    return rhor"
   ]
  },
  {
   "cell_type": "code",
   "execution_count": 21,
   "metadata": {
    "collapsed": false
   },
   "outputs": [
    {
     "data": {
      "text/latex": [
       "$8.4111216 \\times 10^{11} \\; \\mathrm{Gpc}$"
      ],
      "text/plain": [
       "<Quantity 841112156663.8446 Gpc>"
      ]
     },
     "execution_count": 21,
     "metadata": {},
     "output_type": "execute_result"
    }
   ],
   "source": [
    "r = r_hor_tobs(H0,c,G,chirpM,OmegaGW_limit,fref,Rate,t_obs)\n",
    "r.to(u.Gpc)"
   ]
  },
  {
   "cell_type": "code",
   "execution_count": 9,
   "metadata": {
    "collapsed": false
   },
   "outputs": [
    {
     "data": {
      "image/png": "[encoded data removed]",
      "text/plain": [
       "<Figure size 432x288 with 1 Axes>"
      ]
     },
     "metadata": {},
     "output_type": "display_data"
    }
   ],
   "source": [
    "#plot them\n",
    "possible_omegas = np.logspace(-10,-7)\n",
    "# --- t= age of U ---#\n",
    "plt.plot(possible_omegas,r_hor(H0,c,G,chirpM,possible_omegas,fref,Rate).to(u.Gpc))\n",
    "plt.axvline(OmegaGW_limit,linestyle='--',alpha=0.3)\n",
    "plt.axhline(87.6,linestyle='--',alpha=0.3)\n",
    "plt.xscale('log')\n",
    "# plt.yscale('log')\n",
    "plt.xlabel(r'$\\Omega_{ref}$')\n",
    "plt.ylabel('horizon distance [Gpc]')\n",
    "plt.title(r'$N = \\mathcal{R}\\frac{r_{hor}}{c}$')\n",
    "plt.show()\n",
    "# #--- t = t_obs ---#\n",
    "# plt.plot(possible_omegas,r_hor_tobs(H0,c,G,chirpM,possible_omegas,fref,Rate,t_obs).to(u.Gpc))\n",
    "# plt.xscale('log')\n",
    "# # plt.yscale('log')\n",
    "# plt.xlabel(r'$\\Omega_{ref}$')\n",
    "# plt.ylabel('horizon distance [Gpc]')\n",
    "# plt.title(r'$N = \\mathcal{R}t_{obs}$')\n",
    "# plt.show()"
   ]
  },
  {
   "cell_type": "markdown",
   "metadata": {},
   "source": [
    "### Adding in a mass distribution\n",
    "\n",
    "$$\\rho_c c^2 \\Omega_{GW}(f) =  r_{hor} \\frac{H_0}{c} \\frac{(f G \\pi)^{2/3}}{3 (2)^{1/3}} \\int d t \\frac{\\mathcal{R}_0 (2\\gamma +1)}{m_{max}^{2\\gamma +1} - m_{min}^{2\\gamma +1}} [\\frac{m_{max}^{2\\gamma +8/3} - m_{min}^{2\\gamma +8/3}}{(2\\gamma +8/3)}] $$"
   ]
  },
  {
   "cell_type": "code",
   "execution_count": 14,
   "metadata": {
    "collapsed": false
   },
   "outputs": [],
   "source": [
    "#this assumes equal masses and a power law for each component mass\n",
    "def r_hor_marg_Mchirp(H0,c,G,Omega,fref,R0):\n",
    "    '''calculates the horizon distance assuming a euclidian static universe.\n",
    "    Inputs must all have astropy units.'''\n",
    "    Omegaf = Omega*np.power(fref,-2./3)\n",
    "    Gpi53 = np.power(np.pi,-5./3)\n",
    "    Hoc = H0**2 * (c**3)\n",
    "    \n",
    "    prefac = R0/(2**(1./3))\n",
    "    power = (2 * gamma + 1)\n",
    "    norm = power /(np.power(m_max,power) - np.power(m_min,power))    \n",
    "    RofM = norm * prefac \\\n",
    "    * (np.power(m_max,power)*np.power(m_max*G,5./3)-np.power(m_min,power)*np.power(m_min*G,5./3)) \\\n",
    "    / (power+5./3)\n",
    "    #(you have to do some finegling to get the 5/3 thing to cancel units with the mass in G properly but this does the trick^)\n",
    "    \n",
    "    rhor = (9./(8 *RofM)) * Hoc * Gpi53 * Omegaf\n",
    "    return rhor"
   ]
  },
  {
   "cell_type": "code",
   "execution_count": 15,
   "metadata": {
    "collapsed": false
   },
   "outputs": [
    {
     "data": {
      "text/latex": [
       "$348.01807 \\; \\mathrm{Gpc}$"
      ],
      "text/plain": [
       "<Quantity 348.01806764493966 Gpc>"
      ]
     },
     "execution_count": 15,
     "metadata": {},
     "output_type": "execute_result"
    }
   ],
   "source": [
    "r_hor_marg_Mchirp(H0,c,G,OmegaGW_limit,fref,Rate).to(u.Gpc)"
   ]
  },
  {
   "cell_type": "code",
   "execution_count": 16,
   "metadata": {
    "collapsed": false
   },
   "outputs": [
    {
     "data": {
      "image/png": "[encoded data removed]",
      "text/plain": [
       "<Figure size 432x288 with 1 Axes>"
      ]
     },
     "metadata": {},
     "output_type": "display_data"
    }
   ],
   "source": [
    "plt.plot(possible_omegas,r_hor_marg_Mchirp(H0,c,G,possible_omegas,fref,Rate).to(u.Gpc))\n",
    "plt.axvline(OmegaGW_limit)\n",
    "plt.axhline(348.0)\n",
    "plt.xscale('log')\n",
    "# plt.yscale('log')\n",
    "plt.xlabel(r'$\\Omega_{ref}$')\n",
    "plt.ylabel('horizon distance [Gpc]')\n",
    "plt.title(r'Plug in equal mass distribution, and $N = \\mathcal{R}\\frac{r_{hor}}{c}$')\n",
    "plt.show()"
   ]
  },
  {
   "cell_type": "markdown",
   "metadata": {
    "collapsed": true
   },
   "source": [
    "## Putting Limits on FLRW parameters\n",
    "\n",
    "$ \\rho_c c^2 \\Omega_{GW} (f) = \\frac{(f \\pi G)^{2/3}}{3} \\mathcal{R_0} \\int_0^{z_f} \\frac{\\mathrm{d}z}{(1+z)^{1/3} H(z)} \\text{(massfac)(z-ev0)} $\n",
    "\n",
    "where $ \\text{massfac} = \\int_0^\\infty \\text{d}\\mathcal{M} \\frac{\\text{d}\\mathcal{R}(\\mathcal{M},z)}{\\text{d}\\mathcal{M}} \\mathcal{M}^{5/3}$ accounts for the mass distribution of binaries and $ \\text{z-evo} = \\mathcal{C}(\\alpha,\\beta,z_p) \\frac{(1+z)^{\\alpha}}{1 + (\\frac{1+z}{1+z_p})^{\\alpha+\\beta}} $ is the redshift evolution of the merger rate."
   ]
  },
  {
   "cell_type": "code",
   "execution_count": 61,
   "metadata": {
    "collapsed": false
   },
   "outputs": [],
   "source": [
    "def equal_masses(R0,gamma,m_min,m_max):\n",
    "    '''lets again assume the equal masses model that does not evolve in redshift \n",
    "    (eventually we will want to evolve it in redshift so that zf has an astrophysical rather that cosmological meaning)\n",
    "    '''\n",
    "    prefac = R0/(2**(1./3))\n",
    "    power = (2 * gamma + 1)\n",
    "    norm = power /(np.power(m_max,power) - np.power(m_min,power)) \n",
    "    massfac = norm * prefac \\\n",
    "    * (np.power(m_max,power)*np.power(m_max,5./3)-np.power(m_min,power)*np.power(m_min,5./3)) \\\n",
    "    / (power+5./3)\n",
    "    return massfac\n",
    "\n",
    "def int_over_z(z,Omega_m,Omega_Lam,Omega_r, zp=0,alpha=0,beta=0):\n",
    "    ''' putting in values for zp, alpha, and beta gives the redshift evolution in Callister et al 2020'''\n",
    "    Omega_k = 1 - (Omega_m + Omega_Lam + Omega_r)\n",
    "    H_z = np.sqrt(Omega_Lam + Omega_r * (1 + z)**4. + Omega_m * (1 + z)**3. + Omega_k * (1 + z)**2. )\n",
    "    \n",
    "    z_evo = np.power(1+z,alpha)/(1+ np.power((1+z)/(1+zp),beta))\n",
    "    C =  1 + np.power(1+zp,-1*(alpha+beta))\n",
    "    \n",
    "    integrand = z_evo * C / ((1+z)*H_z)\n",
    "    return integrand\n",
    "\n",
    "def OmegaGW(zf,Omega_m,fref,massdist=equal_masses,z_evo_params=[0,0,0]):\n",
    "    fpiG = np.power(fref*np.pi*G,2./3)/3.\n",
    "    rhoc2 = ( c**2 ) * ( H0**2 ) * 3 /( 8 * np.pi * G )\n",
    "    massfac = massdist(gamma,m_min,m_max) * np.power(u.Msun,5./3)\n",
    "    integral = inte.quad(int_over_z,0,zf,\n",
    "                         args=(Omega_m, 1-Omega_m,0,z_evo_params[0],\n",
    "                               z_evo_params[1],z_evo_params[2])\n",
    "                        )[0]\n",
    "    integral *= 1./H0\n",
    "    \n",
    "    return (integral * Rate * massfac * fpiG / rhoc2).to(u.m/u.m)"
   ]
  },
  {
   "cell_type": "code",
   "execution_count": 66,
   "metadata": {
    "collapsed": true
   },
   "outputs": [],
   "source": [
    "def plaw_selection(gamma,m_min,m_max,beta_q=1):\n",
    "#     m_min *= 1/u.Msun\n",
    "#     m_max *= 1/u.Msun\n",
    "\n",
    "    def int_over_m2(m1,power_of_m2):\n",
    "        return (np.power(m1,power_of_m2+1) - np.power(m_min,power_of_m2+1))/ (power_of_m2 +1)\n",
    "    def int_over_m1(m1,m2_int_array,power_of_m1):\n",
    "        return m2_int_array * np.power(m1,power_of_m1 + 1) / (power_of_m1 + 1)\n",
    "    possible_masses = np.linspace(m_min,m_max)\n",
    "    p_m1_m2_integral_1 = int_over_m2(possible_masses,gamma)\n",
    "    #left off here!!\n",
    "        \n",
    "    def p_m1_m2(m2,m1):\n",
    "        if m2/m1 > m_min/m_max:\n",
    "            f_q = np.power(m2/m1,beta_q)\n",
    "        p_m1_m2 = f_q * np.power(m1 * m2, gamma)\n",
    "        return p_m1_m2\n",
    "    def mass_integrand(m2,m1):\n",
    "        return p_m1_m2(m2,m1) * (m1 * m2) / np.power(m1 + m2, 1./3)\n",
    "    def double_integral(integrand):\n",
    "        possible_masses = np.linspace(m_min,m_max) \n",
    "        int_over_m2 = np.zeros(len(possible_masses)) \n",
    "        for i in int_over_m2:\n",
    "            # does it make sense for the upper limit and m1 argument in p to be the same?\n",
    "            int_over_m2[i] = inte.quad(integrand, m_min, possible_masses[i],args=possible_masses[i])[0]\n",
    "        int_over_m1 = inte.trapz(int_over_m2)\n",
    "        return int_over_m1\n",
    "    \n",
    "    p_norm = 1./double_integral(p_m1_m2)\n",
    "    \n",
    "    integral = double_integral(mass_integrand) \n",
    "    \n",
    "    return p_norm * integral\n",
    "    "
   ]
  },
  {
   "cell_type": "code",
   "execution_count": 67,
   "metadata": {
    "collapsed": false
   },
   "outputs": [
    {
     "ename": "ValueError",
     "evalue": "The truth value of an array with more than one element is ambiguous. Use a.any() or a.all()",
     "output_type": "error",
     "traceback": [
      "\u001b[0;31m---------------------------------------------------------------------------\u001b[0m",
      "\u001b[0;31mValueError\u001b[0m                                Traceback (most recent call last)",
      "\u001b[0;32m<ipython-input-67-8cd2f950c0aa>\u001b[0m in \u001b[0;36m<module>\u001b[0;34m()\u001b[0m\n\u001b[1;32m      7\u001b[0m \u001b[0mredshift_evolution_parameters\u001b[0m \u001b[1;33m=\u001b[0m \u001b[1;33m[\u001b[0m\u001b[1;36m5.\u001b[0m\u001b[1;33m,\u001b[0m\u001b[1;36m2.\u001b[0m\u001b[1;33m,\u001b[0m\u001b[1;36m7.\u001b[0m\u001b[1;33m]\u001b[0m \u001b[1;31m#zpeak, alpha, beta\u001b[0m\u001b[1;33m\u001b[0m\u001b[0m\n\u001b[1;32m      8\u001b[0m \u001b[1;31m#test\u001b[0m\u001b[1;33m\u001b[0m\u001b[1;33m\u001b[0m\u001b[0m\n\u001b[0;32m----> 9\u001b[0;31m \u001b[0mOmegaGW\u001b[0m\u001b[1;33m(\u001b[0m\u001b[1;36m1000\u001b[0m\u001b[1;33m,\u001b[0m\u001b[1;36m0.3\u001b[0m\u001b[1;33m,\u001b[0m\u001b[0mfref\u001b[0m\u001b[1;33m,\u001b[0m\u001b[0mmassdist\u001b[0m\u001b[1;33m=\u001b[0m\u001b[0mplaw_selection\u001b[0m\u001b[1;33m,\u001b[0m\u001b[0mz_evo_params\u001b[0m\u001b[1;33m=\u001b[0m\u001b[0mredshift_evolution_parameters\u001b[0m\u001b[1;33m)\u001b[0m\u001b[1;33m\u001b[0m\u001b[0m\n\u001b[0m",
      "\u001b[0;32m<ipython-input-61-aa9ab0e54fe8>\u001b[0m in \u001b[0;36mOmegaGW\u001b[0;34m(zf, Omega_m, fref, massdist, z_evo_params)\u001b[0m\n\u001b[1;32m     23\u001b[0m     \u001b[0mfpiG\u001b[0m \u001b[1;33m=\u001b[0m \u001b[0mnp\u001b[0m\u001b[1;33m.\u001b[0m\u001b[0mpower\u001b[0m\u001b[1;33m(\u001b[0m\u001b[0mfref\u001b[0m\u001b[1;33m*\u001b[0m\u001b[0mnp\u001b[0m\u001b[1;33m.\u001b[0m\u001b[0mpi\u001b[0m\u001b[1;33m*\u001b[0m\u001b[0mG\u001b[0m\u001b[1;33m,\u001b[0m\u001b[1;36m2.\u001b[0m\u001b[1;33m/\u001b[0m\u001b[1;36m3\u001b[0m\u001b[1;33m)\u001b[0m\u001b[1;33m/\u001b[0m\u001b[1;36m3.\u001b[0m\u001b[1;33m\u001b[0m\u001b[0m\n\u001b[1;32m     24\u001b[0m     \u001b[0mrhoc2\u001b[0m \u001b[1;33m=\u001b[0m \u001b[1;33m(\u001b[0m \u001b[0mc\u001b[0m\u001b[1;33m**\u001b[0m\u001b[1;36m2\u001b[0m \u001b[1;33m)\u001b[0m \u001b[1;33m*\u001b[0m \u001b[1;33m(\u001b[0m \u001b[0mH0\u001b[0m\u001b[1;33m**\u001b[0m\u001b[1;36m2\u001b[0m \u001b[1;33m)\u001b[0m \u001b[1;33m*\u001b[0m \u001b[1;36m3\u001b[0m \u001b[1;33m/\u001b[0m\u001b[1;33m(\u001b[0m \u001b[1;36m8\u001b[0m \u001b[1;33m*\u001b[0m \u001b[0mnp\u001b[0m\u001b[1;33m.\u001b[0m\u001b[0mpi\u001b[0m \u001b[1;33m*\u001b[0m \u001b[0mG\u001b[0m \u001b[1;33m)\u001b[0m\u001b[1;33m\u001b[0m\u001b[0m\n\u001b[0;32m---> 25\u001b[0;31m     \u001b[0mmassfac\u001b[0m \u001b[1;33m=\u001b[0m \u001b[0mmassdist\u001b[0m\u001b[1;33m(\u001b[0m\u001b[0mgamma\u001b[0m\u001b[1;33m,\u001b[0m\u001b[0mm_min\u001b[0m\u001b[1;33m,\u001b[0m\u001b[0mm_max\u001b[0m\u001b[1;33m)\u001b[0m \u001b[1;33m*\u001b[0m \u001b[0mnp\u001b[0m\u001b[1;33m.\u001b[0m\u001b[0mpower\u001b[0m\u001b[1;33m(\u001b[0m\u001b[0mu\u001b[0m\u001b[1;33m.\u001b[0m\u001b[0mMsun\u001b[0m\u001b[1;33m,\u001b[0m\u001b[1;36m5.\u001b[0m\u001b[1;33m/\u001b[0m\u001b[1;36m3\u001b[0m\u001b[1;33m)\u001b[0m\u001b[1;33m\u001b[0m\u001b[0m\n\u001b[0m\u001b[1;32m     26\u001b[0m     integral = inte.quad(int_over_z,0,zf,\n\u001b[1;32m     27\u001b[0m                          args=(Omega_m, 1-Omega_m,0,z_evo_params[0],\n",
      "\u001b[0;32m<ipython-input-66-c83fe9c291b0>\u001b[0m in \u001b[0;36mplaw_selection\u001b[0;34m(gamma, m_min, m_max, beta_q)\u001b[0m\n\u001b[1;32m     19\u001b[0m         \u001b[1;32mreturn\u001b[0m \u001b[0mint_over_m1\u001b[0m\u001b[1;33m\u001b[0m\u001b[0m\n\u001b[1;32m     20\u001b[0m \u001b[1;33m\u001b[0m\u001b[0m\n\u001b[0;32m---> 21\u001b[0;31m     \u001b[0mp_norm\u001b[0m \u001b[1;33m=\u001b[0m \u001b[1;36m1.\u001b[0m\u001b[1;33m/\u001b[0m\u001b[0mdouble_integral\u001b[0m\u001b[1;33m(\u001b[0m\u001b[0mp_m1_m2\u001b[0m\u001b[1;33m)\u001b[0m\u001b[1;33m\u001b[0m\u001b[0m\n\u001b[0m\u001b[1;32m     22\u001b[0m \u001b[1;33m\u001b[0m\u001b[0m\n\u001b[1;32m     23\u001b[0m     \u001b[0mintegral\u001b[0m \u001b[1;33m=\u001b[0m \u001b[0mdouble_integral\u001b[0m\u001b[1;33m(\u001b[0m\u001b[0mmass_integrand\u001b[0m\u001b[1;33m)\u001b[0m\u001b[1;33m\u001b[0m\u001b[0m\n",
      "\u001b[0;32m<ipython-input-66-c83fe9c291b0>\u001b[0m in \u001b[0;36mdouble_integral\u001b[0;34m(integrand)\u001b[0m\n\u001b[1;32m     12\u001b[0m     \u001b[1;32mdef\u001b[0m \u001b[0mdouble_integral\u001b[0m\u001b[1;33m(\u001b[0m\u001b[0mintegrand\u001b[0m\u001b[1;33m)\u001b[0m\u001b[1;33m:\u001b[0m\u001b[1;33m\u001b[0m\u001b[0m\n\u001b[1;32m     13\u001b[0m         \u001b[0mpossible_masses\u001b[0m \u001b[1;33m=\u001b[0m \u001b[0mnp\u001b[0m\u001b[1;33m.\u001b[0m\u001b[0mlinspace\u001b[0m\u001b[1;33m(\u001b[0m\u001b[0mm_min\u001b[0m\u001b[1;33m,\u001b[0m\u001b[0mm_max\u001b[0m\u001b[1;33m)\u001b[0m\u001b[1;33m\u001b[0m\u001b[0m\n\u001b[0;32m---> 14\u001b[0;31m         \u001b[0mint_over_m2\u001b[0m \u001b[1;33m=\u001b[0m \u001b[0minte\u001b[0m\u001b[1;33m.\u001b[0m\u001b[0mquad\u001b[0m\u001b[1;33m(\u001b[0m\u001b[0mintegrand\u001b[0m\u001b[1;33m,\u001b[0m \u001b[0mm_min\u001b[0m\u001b[1;33m,\u001b[0m \u001b[0mpossible_masses\u001b[0m\u001b[1;33m,\u001b[0m\u001b[0margs\u001b[0m\u001b[1;33m=\u001b[0m\u001b[0mpossible_masses\u001b[0m\u001b[1;33m)\u001b[0m\u001b[1;33m[\u001b[0m\u001b[1;36m0\u001b[0m\u001b[1;33m]\u001b[0m\u001b[1;31m#np.zeros(len(possible_masses))\u001b[0m\u001b[1;33m\u001b[0m\u001b[0m\n\u001b[0m\u001b[1;32m     15\u001b[0m \u001b[1;31m#         for i in int_over_m2:\u001b[0m\u001b[1;33m\u001b[0m\u001b[1;33m\u001b[0m\u001b[0m\n\u001b[1;32m     16\u001b[0m \u001b[1;31m#             # does it make sense for the upper limit and m1 argument in p to be the same?\u001b[0m\u001b[1;33m\u001b[0m\u001b[1;33m\u001b[0m\u001b[0m\n",
      "\u001b[0;32mC:\\Users\\Owner\\Anaconda2\\lib\\site-packages\\scipy\\integrate\\quadpack.pyc\u001b[0m in \u001b[0;36mquad\u001b[0;34m(func, a, b, args, full_output, epsabs, epsrel, limit, points, weight, wvar, wopts, maxp1, limlst)\u001b[0m\n\u001b[1;32m    313\u001b[0m     \u001b[1;32mif\u001b[0m \u001b[1;33m(\u001b[0m\u001b[0mweight\u001b[0m \u001b[1;32mis\u001b[0m \u001b[0mNone\u001b[0m\u001b[1;33m)\u001b[0m\u001b[1;33m:\u001b[0m\u001b[1;33m\u001b[0m\u001b[0m\n\u001b[1;32m    314\u001b[0m         retval = _quad(func, a, b, args, full_output, epsabs, epsrel, limit,\n\u001b[0;32m--> 315\u001b[0;31m                        points)\n\u001b[0m\u001b[1;32m    316\u001b[0m     \u001b[1;32melse\u001b[0m\u001b[1;33m:\u001b[0m\u001b[1;33m\u001b[0m\u001b[0m\n\u001b[1;32m    317\u001b[0m         retval = _quad_weight(func, a, b, args, full_output, epsabs, epsrel,\n",
      "\u001b[0;32mC:\\Users\\Owner\\Anaconda2\\lib\\site-packages\\scipy\\integrate\\quadpack.pyc\u001b[0m in \u001b[0;36m_quad\u001b[0;34m(func, a, b, args, full_output, epsabs, epsrel, limit, points)\u001b[0m\n\u001b[1;32m    362\u001b[0m \u001b[1;32mdef\u001b[0m \u001b[0m_quad\u001b[0m\u001b[1;33m(\u001b[0m\u001b[0mfunc\u001b[0m\u001b[1;33m,\u001b[0m\u001b[0ma\u001b[0m\u001b[1;33m,\u001b[0m\u001b[0mb\u001b[0m\u001b[1;33m,\u001b[0m\u001b[0margs\u001b[0m\u001b[1;33m,\u001b[0m\u001b[0mfull_output\u001b[0m\u001b[1;33m,\u001b[0m\u001b[0mepsabs\u001b[0m\u001b[1;33m,\u001b[0m\u001b[0mepsrel\u001b[0m\u001b[1;33m,\u001b[0m\u001b[0mlimit\u001b[0m\u001b[1;33m,\u001b[0m\u001b[0mpoints\u001b[0m\u001b[1;33m)\u001b[0m\u001b[1;33m:\u001b[0m\u001b[1;33m\u001b[0m\u001b[0m\n\u001b[1;32m    363\u001b[0m     \u001b[0minfbounds\u001b[0m \u001b[1;33m=\u001b[0m \u001b[1;36m0\u001b[0m\u001b[1;33m\u001b[0m\u001b[0m\n\u001b[0;32m--> 364\u001b[0;31m     \u001b[1;32mif\u001b[0m \u001b[1;33m(\u001b[0m\u001b[0mb\u001b[0m \u001b[1;33m!=\u001b[0m \u001b[0mInf\u001b[0m \u001b[1;32mand\u001b[0m \u001b[0ma\u001b[0m \u001b[1;33m!=\u001b[0m \u001b[1;33m-\u001b[0m\u001b[0mInf\u001b[0m\u001b[1;33m)\u001b[0m\u001b[1;33m:\u001b[0m\u001b[1;33m\u001b[0m\u001b[0m\n\u001b[0m\u001b[1;32m    365\u001b[0m         \u001b[1;32mpass\u001b[0m   \u001b[1;31m# standard integration\u001b[0m\u001b[1;33m\u001b[0m\u001b[0m\n\u001b[1;32m    366\u001b[0m     \u001b[1;32melif\u001b[0m \u001b[1;33m(\u001b[0m\u001b[0mb\u001b[0m \u001b[1;33m==\u001b[0m \u001b[0mInf\u001b[0m \u001b[1;32mand\u001b[0m \u001b[0ma\u001b[0m \u001b[1;33m!=\u001b[0m \u001b[1;33m-\u001b[0m\u001b[0mInf\u001b[0m\u001b[1;33m)\u001b[0m\u001b[1;33m:\u001b[0m\u001b[1;33m\u001b[0m\u001b[0m\n",
      "\u001b[0;31mValueError\u001b[0m: The truth value of an array with more than one element is ambiguous. Use a.any() or a.all()"
     ]
    }
   ],
   "source": [
    "#define arrays for evaluating\n",
    "zf_array = np.linspace(0.1, 10,num=50)\n",
    "Omega_m_array = np.linspace(0,1.4,num=50)\n",
    "Omega_gw_z_free = np.zeros(len(zf_array))\n",
    "Omega_gw_Omegam_free = np.zeros(len(Omega_m_array))\n",
    "\n",
    "redshift_evolution_parameters = [5.,2.,7.] #zpeak, alpha, beta\n",
    "#test\n",
    "OmegaGW(1000,0.3,fref,massdist=plaw_selection,z_evo_params=redshift_evolution_parameters)"
   ]
  },
  {
   "cell_type": "code",
   "execution_count": 15,
   "metadata": {
    "collapsed": false
   },
   "outputs": [],
   "source": [
    "#have to do it with a loop because of how inte.quad works\n",
    "for i in range(len(zf_array)):\n",
    "    Omega_gw_z_free[i]= OmegaGW(zf_array[i],0.3,fref,z_evo_params=redshift_evolution_parameters)\n",
    "    Omega_gw_Omegam_free[i] = OmegaGW(6.,Omega_m_array[i],fref,z_evo_params=redshift_evolution_parameters)"
   ]
  },
  {
   "cell_type": "code",
   "execution_count": 16,
   "metadata": {
    "collapsed": false
   },
   "outputs": [
    {
     "data": {
      "image/png": "[encoded data removed]",
      "text/plain": [
       "<Figure size 432x288 with 1 Axes>"
      ]
     },
     "metadata": {},
     "output_type": "display_data"
    },
    {
     "data": {
      "image/png": "[encoded data removed]",
      "text/plain": [
       "<Figure size 432x288 with 1 Axes>"
      ]
     },
     "metadata": {},
     "output_type": "display_data"
    }
   ],
   "source": [
    "plt.plot(zf_array,Omega_gw_z_free)\n",
    "#plt.axhline(OmegaGW_limit)\n",
    "plt.xlabel('farthest redshift')\n",
    "plt.ylabel('Omega_ref')\n",
    "plt.show()\n",
    "\n",
    "plt.plot(Omega_m_array,Omega_gw_Omegam_free)\n",
    "#plt.axhline(OmegaGW_limit)\n",
    "plt.xlabel('Omega_matter')\n",
    "plt.ylabel('Omega_ref')\n",
    "plt.show()"
   ]
  },
  {
   "cell_type": "code",
   "execution_count": null,
   "metadata": {
    "collapsed": true
   },
   "outputs": [],
   "source": []
  }
 ],
 "metadata": {
  "anaconda-cloud": {},
  "kernelspec": {
   "display_name": "Python [conda root]",
   "language": "python",
   "name": "conda-root-py"
  },
  "language_info": {
   "codemirror_mode": {
    "name": "ipython",
    "version": 2
   },
   "file_extension": ".py",
   "mimetype": "text/x-python",
   "name": "python",
   "nbconvert_exporter": "python",
   "pygments_lexer": "ipython2",
   "version": "2.7.12"
  }
 },
 "nbformat": 4,
 "nbformat_minor": 1
}
