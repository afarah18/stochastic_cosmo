{
 "cells": [
  {
   "cell_type": "code",
   "execution_count": 1,
   "metadata": {
    "collapsed": true
   },
   "outputs": [],
   "source": [
    "import numpy as np\n",
    "import matplotlib.pyplot as plt\n",
    "from scipy import integrate as inte\n",
    "from astropy import units as u\n",
    "from astropy import constants as const"
   ]
  },
  {
   "cell_type": "code",
   "execution_count": 39,
   "metadata": {
    "collapsed": false
   },
   "outputs": [],
   "source": [
    "#constants and units\n",
    "H0 = 67.9 * u.km/u.s/u.Mpc\n",
    "c = const.c\n",
    "G = const.G.to(u.km**2 * u.Mpc /u.Msun/u.s**2)\n",
    "chirpM = 26*u.Msun\n",
    "rho_crit = (3/8/np.pi) * H0**2 /G # has dimensions of density (mass/volume)\n",
    "\n",
    "fref = 25. /u.s\n",
    "OmegaGW_limit = 4.8e-8\n",
    "Rate = 53.2 /(u.Gpc**3 * u.year)\n",
    "t_obs = 1.5 *u.year\n",
    "\n",
    "m_min = 6.7 * u.Msun\n",
    "m_max = 41.9 * u.Msun\n",
    "gamma = -1.4"
   ]
  },
  {
   "cell_type": "markdown",
   "metadata": {},
   "source": [
    "## Horizon Distance of a Euclidian Universe \n",
    "\n",
    "$$ r_{\\text{hor}} = \\frac{9 H_0 c^3}{8 N} (G \\pi \\mathcal{M})^{-5/3} \\Omega_{\\text{ref}}f_{\\text{ref}} ^{-2/3} $$ \n",
    "\n",
    "Where $N$ is the number density of events. Here we have assumed it to be the local merger rate $R$ times the time it has taken light to reach us from the horizon distance $t= r_{hor}/c$. "
   ]
  },
  {
   "cell_type": "code",
   "execution_count": 25,
   "metadata": {
    "collapsed": false
   },
   "outputs": [],
   "source": [
    "def r_hor(H0,c,G,Mchirp,Omega,fref,R):\n",
    "    '''calculates the horizon distance assuming a euclidian static universe.\n",
    "    Inputs must all have astropy units.'''\n",
    "    Omegaf = Omega*np.power(fref,-2./3)\n",
    "    GpiM53 = np.power(G*np.pi*Mchirp,-5./3)\n",
    "    Hoc = H0 *(c**4)\n",
    "    \n",
    "    rhor_2 = (9/(8 * R)) * Hoc * GpiM53 * Omegaf\n",
    "    return np.sqrt(rhor_2)"
   ]
  },
  {
   "cell_type": "code",
   "execution_count": 47,
   "metadata": {
    "collapsed": false
   },
   "outputs": [
    {
     "data": {
      "text/latex": [
       "$19.667975 \\; \\mathrm{Gpc}$"
      ],
      "text/plain": [
       "<Quantity 19.667974968147806 Gpc>"
      ]
     },
     "execution_count": 47,
     "metadata": {},
     "output_type": "execute_result"
    }
   ],
   "source": [
    "r = r_hor(H0,c,G,chirpM,OmegaGW_limit,fref,Rate)\n",
    "r.to(u.Gpc)"
   ]
  },
  {
   "cell_type": "code",
   "execution_count": null,
   "metadata": {
    "collapsed": false
   },
   "outputs": [],
   "source": [
    "hubble_dist = c/H0\n",
    "(r/hubble_dist).to(u.m/u.m)"
   ]
  },
  {
   "cell_type": "code",
   "execution_count": 8,
   "metadata": {
    "collapsed": false
   },
   "outputs": [
    {
     "data": {
      "text/latex": [
       "$26.116517 \\; \\mathrm{M_{\\odot}}$"
      ],
      "text/plain": [
       "<Quantity 26.1165169 solMass>"
      ]
     },
     "execution_count": 8,
     "metadata": {},
     "output_type": "execute_result"
    }
   ],
   "source": [
    "#chirp mass for two 30 solar mass BHs\n",
    "m = 30 * u.Msun\n",
    "M53 = m*m*(m+m)**(-1/3)\n",
    "M53**(3/5)"
   ]
  },
  {
   "cell_type": "code",
   "execution_count": 26,
   "metadata": {
    "collapsed": true
   },
   "outputs": [],
   "source": [
    "# if you want to integrate over observing time instead of the age of the U\n",
    "def r_hor_tobs(H0,c,G,Mchirp,Omega,fref,R,tobs):\n",
    "    '''calculates the horizon distance assuming a euclidian static universe.\n",
    "    Inputs must all have astropy units.'''\n",
    "    Omegaf = Omega*np.power(fref,-2./3)\n",
    "    GpiM53 = np.power(G*np.pi*Mchirp,-5./3)\n",
    "    Hoc = H0 *(c**3)\n",
    "    N = R * tobs\n",
    "    \n",
    "    rhor = (9./(8 *N)) * Hoc * GpiM53 * Omegaf\n",
    "    return rhor"
   ]
  },
  {
   "cell_type": "code",
   "execution_count": 21,
   "metadata": {
    "collapsed": false
   },
   "outputs": [
    {
     "data": {
      "text/latex": [
       "$8.4111216 \\times 10^{11} \\; \\mathrm{Gpc}$"
      ],
      "text/plain": [
       "<Quantity 841112156663.8446 Gpc>"
      ]
     },
     "execution_count": 21,
     "metadata": {},
     "output_type": "execute_result"
    }
   ],
   "source": [
    "r = r_hor_tobs(H0,c,G,chirpM,OmegaGW_limit,fref,Rate,t_obs)\n",
    "r.to(u.Gpc)"
   ]
  },
  {
   "cell_type": "code",
   "execution_count": 49,
   "metadata": {
    "collapsed": false
   },
   "outputs": [
    {
     "data": {
      "image/png": "[encoded data removed]",
      "text/plain": [
       "<Figure size 432x288 with 1 Axes>"
      ]
     },
     "metadata": {},
     "output_type": "display_data"
    },
    {
     "data": {
      "image/png": "[encoded data removed]",
      "text/plain": [
       "<Figure size 432x288 with 1 Axes>"
      ]
     },
     "metadata": {},
     "output_type": "display_data"
    }
   ],
   "source": [
    "#plot them\n",
    "possible_omegas = np.logspace(-10,-7)\n",
    "# --- t= age of U ---#\n",
    "plt.plot(possible_omegas,r_hor(H0,c,G,chirpM,possible_omegas,fref,Rate).to(u.Gpc))\n",
    "plt.axvline(OmegaGW_limit)\n",
    "plt.axhline(19.6)\n",
    "plt.xscale('log')\n",
    "# plt.yscale('log')\n",
    "plt.xlabel(r'$\\Omega_{ref}$')\n",
    "plt.ylabel('horizon distance [Gpc]')\n",
    "plt.title(r'$N = \\mathcal{R}\\frac{r_{hor}}{c}$')\n",
    "plt.show()\n",
    "#--- t = t_obs ---#\n",
    "plt.plot(possible_omegas,r_hor_tobs(H0,c,G,chirpM,possible_omegas,fref,Rate,t_obs).to(u.Gpc))\n",
    "plt.xscale('log')\n",
    "# plt.yscale('log')\n",
    "plt.xlabel(r'$\\Omega_{ref}$')\n",
    "plt.ylabel('horizon distance [Gpc]')\n",
    "plt.title(r'$N = \\mathcal{R}t_{obs}$')\n",
    "plt.show()"
   ]
  },
  {
   "cell_type": "markdown",
   "metadata": {},
   "source": [
    "### Adding in a mass distribution"
   ]
  },
  {
   "cell_type": "code",
   "execution_count": 96,
   "metadata": {
    "collapsed": false
   },
   "outputs": [],
   "source": [
    "#this assumes equal masses and a power law for each component mass\n",
    "def r_hor_marg_Mchirp(H0,c,G,Omega,fref,R0):\n",
    "    '''calculates the horizon distance assuming a euclidian static universe.\n",
    "    Inputs must all have astropy units.'''\n",
    "    Omegaf = Omega*np.power(fref,-2./3)\n",
    "    Gpi53 = np.power(np.pi,-5./3)\n",
    "    Hoc = H0 * (c**4)\n",
    "    \n",
    "    prefac = R0/(2**(1./3))\n",
    "    power = (2 * gamma + 1)\n",
    "    norm = power /(np.power(m_max,power) - np.power(m_min,power))    \n",
    "    RofM = norm * prefac \\\n",
    "    * (np.power(m_max,power)*np.power(m_max*G,5./3)-np.power(m_min,power)*np.power(m_min*G,5./3)) \\\n",
    "    / (power+5./3)\n",
    "    #(you have to do some finegling to get the 5/3 thing to cancel units with the mass in G properly but this does the trick^)\n",
    "    \n",
    "    rhor_2 = (9./(8 *RofM)) * Hoc * Gpi53 * Omegaf\n",
    "    return np.sqrt(rhor_2)"
   ]
  },
  {
   "cell_type": "code",
   "execution_count": 97,
   "metadata": {
    "collapsed": false
   },
   "outputs": [
    {
     "data": {
      "text/latex": [
       "$39.199124 \\; \\mathrm{Gpc}$"
      ],
      "text/plain": [
       "<Quantity 39.199123838245484 Gpc>"
      ]
     },
     "execution_count": 97,
     "metadata": {},
     "output_type": "execute_result"
    }
   ],
   "source": [
    "r_hor_marg_Mchirp(H0,c,G,OmegaGW_limit,fref,Rate).to(u.Gpc)"
   ]
  },
  {
   "cell_type": "code",
   "execution_count": 95,
   "metadata": {
    "collapsed": false
   },
   "outputs": [
    {
     "data": {
      "image/png": "[encoded data removed]",
      "text/plain": [
       "<Figure size 432x288 with 1 Axes>"
      ]
     },
     "metadata": {},
     "output_type": "display_data"
    }
   ],
   "source": [
    "plt.plot(possible_omegas,r_hor_marg_Mchirp(H0,c,G,possible_omegas,fref,Rate).to(u.Gpc))\n",
    "plt.axvline(OmegaGW_limit)\n",
    "plt.axhline(62.22473)\n",
    "plt.xscale('log')\n",
    "# plt.yscale('log')\n",
    "plt.xlabel(r'$\\Omega_{ref}$')\n",
    "plt.ylabel('horizon distance [Gpc]')\n",
    "plt.title(r'Plug in equal mass distribution, and $N = \\mathcal{R}\\frac{r_{hor}}{c}$')\n",
    "plt.show()"
   ]
  },
  {
   "cell_type": "markdown",
   "metadata": {
    "collapsed": true
   },
   "source": [
    "## Putting Limits on FLRW parameters\n",
    "\n",
    "$ \\rho_c c^2 \\Omega_{GW} (f) = \\frac{(f \\pi G)^{2/3}}{3} \\int_0^{z_f} \\frac{\\mathrm{d}z}{(1+z)^{1/3} H(z)} \\text{(massfac)} $\n",
    "\n",
    "where $ \\text{massfac} = \\int_0^\\infty \\text{d}\\mathcal{M} \\frac{\\text{d}\\mathcal{R}(\\mathcal{M},z)}{\\text{d}\\mathcal{M}} \\mathcal{M}^{5/3}$ accounts for the mass distribution of binaries"
   ]
  },
  {
   "cell_type": "code",
   "execution_count": 29,
   "metadata": {
    "collapsed": false
   },
   "outputs": [],
   "source": [
    "def massfac(R0,gamma,m_min,m_max):\n",
    "    '''lets again assume the equal masses model that does not evolve in redshift \n",
    "    (eventually we will want to evolve it in redshift so that zf has an astrophysical rather that cosmological meaning)\n",
    "    '''\n",
    "    prefac = R0/(2**(1./3))\n",
    "    power = (2 * gamma + 1)\n",
    "    norm = power /(np.power(m_max,power) - np.power(m_min,power)) \n",
    "    massfac = norm * prefac \\\n",
    "    * (np.power(m_max,power)*np.power(m_max,5./3)-np.power(m_min,power)*np.power(m_min,5./3)) \\\n",
    "    / (power+5./3)\n",
    "    return massfac\n",
    "\n",
    "def int_over_z(z,Omega_m,Omega_Lam,Omega_r,Omega_k):\n",
    "    H_z = np.sqrt(Omega_Lam + Omega_r * (1 + z)**4. + Omega_m * (1 + z)**3. + Omega_k * (1 + z)**2. )\n",
    "    integrand = 1./((1+z)*H_z)\n",
    "    return integrand\n",
    "\n",
    "def OmegaGW(zf,Omega_m,fref):\n",
    "    fpiG = np.power(fref*np.pi*G,2./3)/3.\n",
    "    rhoc2 = ( c**2 ) * ( H0**2 ) * 3 /( 8 * np.pi * G )\n",
    "    mfac = massfac(Rate,gamma,m_min,m_max)\n",
    "    integral = inte.quad(int_over_z,0,zf,args=(Omega_m, 0.3,0,0))[0]\n",
    "    integral *= 1./H0\n",
    "    \n",
    "    return (integral * mfac * fpiG / rhoc2).to(u.m/u.m)"
   ]
  },
  {
   "cell_type": "code",
   "execution_count": 44,
   "metadata": {
    "collapsed": false
   },
   "outputs": [
    {
     "data": {
      "text/latex": [
       "$6.5325533 \\times 10^{-10} \\; \\mathrm{}$"
      ],
      "text/plain": [
       "<Quantity 6.53255328356069e-10>"
      ]
     },
     "execution_count": 44,
     "metadata": {},
     "output_type": "execute_result"
    }
   ],
   "source": [
    "#define arrays for evaluating\n",
    "zf_array = np.linspace(0.1, 10,num=50)\n",
    "Omega_m_array = np.linspace(0,1.4,num=50)\n",
    "Omega_gw_z_free = np.zeros(len(zf_array))\n",
    "Omega_gw_Omegam_free = np.zeros(len(Omega_m_array))\n",
    "\n",
    "#test\n",
    "OmegaGW(1000,0.3,fref)"
   ]
  },
  {
   "cell_type": "code",
   "execution_count": 46,
   "metadata": {
    "collapsed": false
   },
   "outputs": [],
   "source": [
    "#have to do it with a loop because of how inte.quad works\n",
    "for i in range(len(zf_array)):\n",
    "    Omega_gw_z_free[i]= OmegaGW(zf_array[i],0.3,fref)\n",
    "    Omega_gw_Omegam_free[i] = OmegaGW(6.,Omega_m_array[i],fref)"
   ]
  },
  {
   "cell_type": "code",
   "execution_count": 47,
   "metadata": {
    "collapsed": false
   },
   "outputs": [
    {
     "data": {
      "image/png": "[encoded data removed]",
      "text/plain": [
       "<Figure size 432x288 with 1 Axes>"
      ]
     },
     "metadata": {},
     "output_type": "display_data"
    },
    {
     "data": {
      "image/png": "[encoded data removed]",
      "text/plain": [
       "<Figure size 432x288 with 1 Axes>"
      ]
     },
     "metadata": {},
     "output_type": "display_data"
    }
   ],
   "source": [
    "plt.plot(zf_array,Omega_gw_z_free)\n",
    "#plt.axhline(OmegaGW_limit)\n",
    "plt.xlabel('farthest redshift')\n",
    "plt.ylabel('Omega_ref')\n",
    "plt.show()\n",
    "\n",
    "plt.plot(Omega_m_array,Omega_gw_Omegam_free)\n",
    "#plt.axhline(OmegaGW_limit)\n",
    "plt.xlabel('Omega_matter')\n",
    "plt.ylabel('Omega_ref')\n",
    "plt.show()"
   ]
  },
  {
   "cell_type": "code",
   "execution_count": null,
   "metadata": {
    "collapsed": true
   },
   "outputs": [],
   "source": []
  }
 ],
 "metadata": {
  "anaconda-cloud": {},
  "kernelspec": {
   "display_name": "Python [conda root]",
   "language": "python",
   "name": "conda-root-py"
  },
  "language_info": {
   "codemirror_mode": {
    "name": "ipython",
    "version": 2
   },
   "file_extension": ".py",
   "mimetype": "text/x-python",
   "name": "python",
   "nbconvert_exporter": "python",
   "pygments_lexer": "ipython2",
   "version": "2.7.12"
  }
 },
 "nbformat": 4,
 "nbformat_minor": 1
}
