{
 "cells": [
  {
   "cell_type": "code",
   "execution_count": 2,
   "metadata": {
    "collapsed": true
   },
   "outputs": [],
   "source": [
    "import numpy as np\n",
    "from astropy import units as u\n",
    "from astropy import constants as const"
   ]
  },
  {
   "cell_type": "code",
   "execution_count": 9,
   "metadata": {
    "collapsed": false
   },
   "outputs": [],
   "source": [
    "#constants and units\n",
    "H0 = 67.9 * u.km/u.s/u.Mpc\n",
    "c = const.c\n",
    "G = const.G.to(u.km**2 * u.Mpc /u.Msun/u.s**2)\n",
    "chirpM = 26*u.Msun\n",
    "rho_crit = (3/8/np.pi) * H0**2 /G # has dimensions of density (mass/volume)\n",
    "\n",
    "fref = 25 /u.s\n",
    "Omega = 4.8e-8\n",
    "# N = 1/(u.Gpc**3) #placeholder\n",
    "Rate = 53.2 /(u.Gpc**3 * u.year)"
   ]
  },
  {
   "cell_type": "markdown",
   "metadata": {},
   "source": [
    "$$ r_{\\text{hor}} = \\frac{9 H_0 c^3}{8 N} (G \\pi \\mathcal{M})^{-5/3} \\Omega_{\\text{ref}}f_{\\text{ref}} ^{-2/3} $$ \n",
    "\n",
    "Where $N$ is the number density of events. Here we have assumed it to be the local merger rate $R$ times the time it has taken light to reach us from the horizon distance $t= r_{hor}/c$. "
   ]
  },
  {
   "cell_type": "code",
   "execution_count": 10,
   "metadata": {
    "collapsed": false
   },
   "outputs": [],
   "source": [
    "def r_hor(H0,c,G,Mchirp,fref,R):\n",
    "    '''calculates the horizon distance assuming a euclidian static universe.\n",
    "    Inputs must all have astropy units.'''\n",
    "    Omegaf = Omega*np.power(fref,-2/3)\n",
    "    GpiM53 = np.power(G*np.pi*Mchirp,-5/3)\n",
    "    Hoc = H0 *(c**4)\n",
    "    \n",
    "    rhor_2 = (9/(8 * R)) * Hoc * GpiM53 * Omegaf\n",
    "    return np.sqrt(rhor_2)"
   ]
  },
  {
   "cell_type": "code",
   "execution_count": 11,
   "metadata": {
    "collapsed": false
   },
   "outputs": [
    {
     "data": {
      "text/latex": [
       "$19.672533 \\; \\mathrm{Gpc}$"
      ],
      "text/plain": [
       "<Quantity 19.67253342 Gpc>"
      ]
     },
     "execution_count": 11,
     "metadata": {},
     "output_type": "execute_result"
    }
   ],
   "source": [
    "r = r_hor(H0,c,G,chirpM,fref,Rate)\n",
    "r.to(u.Gpc)"
   ]
  },
  {
   "cell_type": "code",
   "execution_count": null,
   "metadata": {
    "collapsed": false
   },
   "outputs": [],
   "source": [
    "hubble_dist = c/H0\n",
    "(r/hubble_dist).to(u.m/u.m)"
   ]
  },
  {
   "cell_type": "code",
   "execution_count": 8,
   "metadata": {
    "collapsed": false
   },
   "outputs": [
    {
     "data": {
      "text/latex": [
       "$26.116517 \\; \\mathrm{M_{\\odot}}$"
      ],
      "text/plain": [
       "<Quantity 26.1165169 solMass>"
      ]
     },
     "execution_count": 8,
     "metadata": {},
     "output_type": "execute_result"
    }
   ],
   "source": [
    "#chirp mass for two 30 solar mass BHs\n",
    "m = 30 * u.Msun\n",
    "M53 = m*m*(m+m)**(-1/3)\n",
    "M53**(3/5)"
   ]
  },
  {
   "cell_type": "code",
   "execution_count": null,
   "metadata": {
    "collapsed": true
   },
   "outputs": [],
   "source": []
  }
 ],
 "metadata": {
  "anaconda-cloud": {},
  "kernelspec": {
   "display_name": "Python [conda env:ASTR250]",
   "language": "python",
   "name": "conda-env-ASTR250-py"
  },
  "language_info": {
   "codemirror_mode": {
    "name": "ipython",
    "version": 3
   },
   "file_extension": ".py",
   "mimetype": "text/x-python",
   "name": "python",
   "nbconvert_exporter": "python",
   "pygments_lexer": "ipython3",
   "version": "3.6.2"
  }
 },
 "nbformat": 4,
 "nbformat_minor": 1
}
