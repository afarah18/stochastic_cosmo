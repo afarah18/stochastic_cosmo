{
 "cells": [
  {
   "cell_type": "code",
   "execution_count": 1,
   "metadata": {
    "collapsed": true
   },
   "outputs": [],
   "source": [
    "import numpy as np\n",
    "import matplotlib.pyplot as plt\n",
    "from scipy import integrate as inte\n",
    "from astropy import units as u\n",
    "from astropy import constants as const\n",
    "import xarray as xr\n",
    "import seaborn as sns"
   ]
  },
  {
   "cell_type": "code",
   "execution_count": 2,
   "metadata": {
    "collapsed": false
   },
   "outputs": [],
   "source": [
    "#constants and units\n",
    "H0 = 67.9 * u.km/u.s/u.Mpc\n",
    "c = const.c\n",
    "G = const.G.to(u.km**2 * u.Mpc /u.Msun/u.s**2)\n",
    "chirpM = 26*u.Msun\n",
    "rho_crit = (3/8/np.pi) * H0**2 /G # has dimensions of density (mass/volume)\n",
    "\n",
    "fref = 25. /u.s\n",
    "OmegaGW_limit = 4.8e-8\n",
    "Rate = 53.2 /(u.Gpc**3 * u.year)\n",
    "t_obs = 1.5 *u.year\n",
    "\n",
    "#mass distribution parameters\n",
    "m_min = 6.7 #minimum allowed component mass\n",
    "m_max = 41.9 #maximum allowed component mass\n",
    "gamma = -1.4 #power law spectral index for individual component masses\n",
    "beta_q = 4 #spectral index for selection function: f(q) \\prop q^beta_q"
   ]
  },
  {
   "cell_type": "markdown",
   "metadata": {},
   "source": [
    "## Horizon Distance of a Euclidian Universe \n",
    "\n",
    "$$ r_{\\text{hor}} = \\frac{9\\Omega_{\\text{ref}} H_0^2 c^3}{8 \\mathcal{R}} (f_{\\text{ref}})^{-2/3} ( G \\pi \\mathcal{M})^{-5/3} $$ \n",
    "\n",
    "Where $\\mathcal{R}$ is the rate density of events. Here we have assumed it to be the local merger rate $\\mathcal{R}_0$. "
   ]
  },
  {
   "cell_type": "code",
   "execution_count": 4,
   "metadata": {
    "collapsed": false
   },
   "outputs": [],
   "source": [
    "def r_hor(H0,c,G,Mchirp,Omega,fref,R):\n",
    "    '''calculates the horizon distance assuming a euclidian static universe.\n",
    "    Inputs must all have astropy units.'''\n",
    "    Omegaf = Omega*np.power(fref,-2./3)\n",
    "    GpiM53 = np.power(G*np.pi*Mchirp,-5./3)\n",
    "    Hoc = H0**2 *(c**3)\n",
    "    \n",
    "    rhor = (9/(8 * R)) * Hoc * GpiM53 * Omegaf\n",
    "    return rhor"
   ]
  },
  {
   "cell_type": "code",
   "execution_count": 5,
   "metadata": {
    "collapsed": false
   },
   "outputs": [
    {
     "data": {
      "text/latex": [
       "$87.612962 \\; \\mathrm{Gpc}$"
      ],
      "text/plain": [
       "<Quantity 87.6129624038377 Gpc>"
      ]
     },
     "execution_count": 5,
     "metadata": {},
     "output_type": "execute_result"
    }
   ],
   "source": [
    "r = r_hor(H0,c,G,chirpM,OmegaGW_limit,fref,Rate)\n",
    "r.to(u.Gpc)"
   ]
  },
  {
   "cell_type": "code",
   "execution_count": 6,
   "metadata": {
    "collapsed": false
   },
   "outputs": [
    {
     "data": {
      "text/latex": [
       "$19.843462 \\; \\mathrm{}$"
      ],
      "text/plain": [
       "<Quantity 19.84346166313644>"
      ]
     },
     "execution_count": 6,
     "metadata": {},
     "output_type": "execute_result"
    }
   ],
   "source": [
    "hubble_dist = c/H0\n",
    "(r/hubble_dist).to(u.m/u.m)"
   ]
  },
  {
   "cell_type": "code",
   "execution_count": 8,
   "metadata": {
    "collapsed": false
   },
   "outputs": [
    {
     "data": {
      "text/latex": [
       "$26.116517 \\; \\mathrm{M_{\\odot}}$"
      ],
      "text/plain": [
       "<Quantity 26.1165169 solMass>"
      ]
     },
     "execution_count": 8,
     "metadata": {},
     "output_type": "execute_result"
    }
   ],
   "source": [
    "#chirp mass for two 30 solar mass BHs\n",
    "m = 30 * u.Msun\n",
    "M53 = m*m*(m+m)**(-1/3)\n",
    "M53**(3/5)"
   ]
  },
  {
   "cell_type": "code",
   "execution_count": 26,
   "metadata": {
    "collapsed": true
   },
   "outputs": [],
   "source": [
    "# if you want to integrate over observing time instead of the age of the U (this no longer makes sense)\n",
    "def r_hor_tobs(H0,c,G,Mchirp,Omega,fref,R,tobs):\n",
    "    '''calculates the horizon distance assuming a euclidian static universe.\n",
    "    Inputs must all have astropy units.'''\n",
    "    Omegaf = Omega*np.power(fref,-2./3)\n",
    "    GpiM53 = np.power(G*np.pi*Mchirp,-5./3)\n",
    "    Hoc = H0 *(c**3)\n",
    "    N = R * tobs\n",
    "    \n",
    "    rhor = (9./(8 *N)) * Hoc * GpiM53 * Omegaf\n",
    "    return rhor"
   ]
  },
  {
   "cell_type": "code",
   "execution_count": 21,
   "metadata": {
    "collapsed": false
   },
   "outputs": [
    {
     "data": {
      "text/latex": [
       "$8.4111216 \\times 10^{11} \\; \\mathrm{Gpc}$"
      ],
      "text/plain": [
       "<Quantity 841112156663.8446 Gpc>"
      ]
     },
     "execution_count": 21,
     "metadata": {},
     "output_type": "execute_result"
    }
   ],
   "source": [
    "r = r_hor_tobs(H0,c,G,chirpM,OmegaGW_limit,fref,Rate,t_obs)\n",
    "r.to(u.Gpc)"
   ]
  },
  {
   "cell_type": "code",
   "execution_count": 9,
   "metadata": {
    "collapsed": false
   },
   "outputs": [
    {
     "data": {
      "image/png": "[encoded data removed]",
      "text/plain": [
       "<Figure size 432x288 with 1 Axes>"
      ]
     },
     "metadata": {},
     "output_type": "display_data"
    }
   ],
   "source": [
    "#plot them\n",
    "possible_omegas = np.logspace(-10,-7)\n",
    "# --- t= age of U ---#\n",
    "plt.plot(possible_omegas,r_hor(H0,c,G,chirpM,possible_omegas,fref,Rate).to(u.Gpc))\n",
    "plt.axvline(OmegaGW_limit,linestyle='--',alpha=0.3)\n",
    "plt.axhline(87.6,linestyle='--',alpha=0.3)\n",
    "plt.xscale('log')\n",
    "# plt.yscale('log')\n",
    "plt.xlabel(r'$\\Omega_{ref}$')\n",
    "plt.ylabel('horizon distance [Gpc]')\n",
    "plt.title(r'$N = \\mathcal{R}\\frac{r_{hor}}{c}$')\n",
    "plt.show()\n",
    "# #--- t = t_obs ---#\n",
    "# plt.plot(possible_omegas,r_hor_tobs(H0,c,G,chirpM,possible_omegas,fref,Rate,t_obs).to(u.Gpc))\n",
    "# plt.xscale('log')\n",
    "# # plt.yscale('log')\n",
    "# plt.xlabel(r'$\\Omega_{ref}$')\n",
    "# plt.ylabel('horizon distance [Gpc]')\n",
    "# plt.title(r'$N = \\mathcal{R}t_{obs}$')\n",
    "# plt.show()"
   ]
  },
  {
   "cell_type": "markdown",
   "metadata": {},
   "source": [
    "### Adding in a mass distribution\n",
    "\n",
    "$$\\rho_c c^2 \\Omega_{GW}(f) =  r_{hor} \\frac{H_0}{c} \\frac{(f G \\pi)^{2/3}}{3 (2)^{1/3}} \\int d t \\frac{\\mathcal{R}_0 (2\\gamma +1)}{m_{max}^{2\\gamma +1} - m_{min}^{2\\gamma +1}} [\\frac{m_{max}^{2\\gamma +8/3} - m_{min}^{2\\gamma +8/3}}{(2\\gamma +8/3)}] $$"
   ]
  },
  {
   "cell_type": "code",
   "execution_count": 14,
   "metadata": {
    "collapsed": false
   },
   "outputs": [],
   "source": [
    "#this assumes equal masses and a power law for each component mass\n",
    "def r_hor_marg_Mchirp(H0,c,G,Omega,fref,R0):\n",
    "    '''calculates the horizon distance assuming a euclidian static universe.\n",
    "    Inputs must all have astropy units.'''\n",
    "    Omegaf = Omega*np.power(fref,-2./3)\n",
    "    Gpi53 = np.power(np.pi,-5./3)\n",
    "    Hoc = H0**2 * (c**3)\n",
    "    \n",
    "    prefac = R0/(2**(1./3))\n",
    "    power = (2 * gamma + 1)\n",
    "    norm = power /(np.power(m_max,power) - np.power(m_min,power))    \n",
    "    RofM = norm * prefac \\\n",
    "    * (np.power(m_max,power)*np.power(m_max*G,5./3)-np.power(m_min,power)*np.power(m_min*G,5./3)) \\\n",
    "    / (power+5./3)\n",
    "    #(you have to do some finegling to get the 5/3 thing to cancel units with the mass in G properly but this does the trick^)\n",
    "    \n",
    "    rhor = (9./(8 *RofM)) * Hoc * Gpi53 * Omegaf\n",
    "    return rhor"
   ]
  },
  {
   "cell_type": "code",
   "execution_count": 15,
   "metadata": {
    "collapsed": false
   },
   "outputs": [
    {
     "data": {
      "text/latex": [
       "$348.01807 \\; \\mathrm{Gpc}$"
      ],
      "text/plain": [
       "<Quantity 348.01806764493966 Gpc>"
      ]
     },
     "execution_count": 15,
     "metadata": {},
     "output_type": "execute_result"
    }
   ],
   "source": [
    "r_hor_marg_Mchirp(H0,c,G,OmegaGW_limit,fref,Rate).to(u.Gpc)"
   ]
  },
  {
   "cell_type": "code",
   "execution_count": 16,
   "metadata": {
    "collapsed": false
   },
   "outputs": [
    {
     "data": {
      "image/png": "[encoded data removed]",
      "text/plain": [
       "<Figure size 432x288 with 1 Axes>"
      ]
     },
     "metadata": {},
     "output_type": "display_data"
    }
   ],
   "source": [
    "plt.plot(possible_omegas,r_hor_marg_Mchirp(H0,c,G,possible_omegas,fref,Rate).to(u.Gpc))\n",
    "plt.axvline(OmegaGW_limit)\n",
    "plt.axhline(348.0)\n",
    "plt.xscale('log')\n",
    "# plt.yscale('log')\n",
    "plt.xlabel(r'$\\Omega_{ref}$')\n",
    "plt.ylabel('horizon distance [Gpc]')\n",
    "plt.title(r'Plug in equal mass distribution, and $N = \\mathcal{R}\\frac{r_{hor}}{c}$')\n",
    "plt.show()"
   ]
  },
  {
   "cell_type": "markdown",
   "metadata": {
    "collapsed": true
   },
   "source": [
    "## Putting Limits on FLRW parameters\n",
    "\n",
    "$ \\rho_c c^2 \\Omega_{GW} (f) = \\frac{(f \\pi G)^{2/3}}{3} \\mathcal{R_0} \\int_0^{z_f} \\frac{\\mathrm{d}z}{(1+z)^{1/3} H(z)} \\text{(massfac)(z-evo)} $\n",
    "\n",
    "where $ \\text{massfac} = \\int_0^\\infty \\text{d}\\mathcal{M} \\frac{\\text{d}\\mathcal{R}(\\mathcal{M},z)}{\\text{d}\\mathcal{M}} \\mathcal{M}^{5/3}$ accounts for the mass distribution of binaries and $ \\text{z-evo} = \\mathcal{C}(\\alpha,\\beta,z_p) \\frac{(1+z)^{\\alpha}}{1 + (\\frac{1+z}{1+z_p})^{\\alpha+\\beta}} $ is the redshift evolution of the merger rate."
   ]
  },
  {
   "cell_type": "code",
   "execution_count": 3,
   "metadata": {
    "collapsed": false
   },
   "outputs": [],
   "source": [
    "#mass distributions\n",
    "def equal_masses(gamma,m_min,m_max):\n",
    "    '''lets again assume the equal masses model that does not evolve in redshift \n",
    "    (eventually we will want to evolve it in redshift so that zf has an astrophysical rather that cosmological meaning)\n",
    "    '''\n",
    "    prefac = 1./(2**(1./3))\n",
    "    power = (2 * gamma + 1)\n",
    "    norm = power /(np.power(m_max,power) - np.power(m_min,power)) \n",
    "    massfac = norm * prefac \\\n",
    "    * (np.power(m_max,power)*np.power(m_max,5./3)-np.power(m_min,power)*np.power(m_min,5./3)) \\\n",
    "    / (power+5./3)\n",
    "    return massfac\n",
    "\n",
    "def plaw_selection(gamma,m_min,m_max):\n",
    "    ''' this is a power law mass distribution with a selection function \n",
    "    for the mass ratio that is proportional to (m2/m1)** beta_q'''\n",
    "    def int_over_m2(m1_arr,power_of_m2):\n",
    "        return (np.power(m1_arr,power_of_m2+1) - np.power(m_min,power_of_m2+1))/ (power_of_m2 +1)\n",
    "    def int_over_m1(m1_arr,m2_int_arr,power_of_m1):\n",
    "        integrand = m2_int_arr * np.power(m1_arr,power_of_m1) \n",
    "        return inte.trapz(integrand)\n",
    "    possible_masses = np.linspace(m_min,m_max)\n",
    "    p_m1_m2_integral_A= int_over_m2(possible_masses,gamma+beta_q)\n",
    "    p_m1_m2_integral_B = int_over_m1(possible_masses,p_m1_m2_integral_A,gamma-beta_q)\n",
    "    p_norm = 1./p_m1_m2_integral_B\n",
    "        \n",
    "    def p_m1_m2(m2,m1):\n",
    "        f_q = np.power(m2/m1,beta_q)\n",
    "        p_m1_m2 = f_q * np.power(m1 * m2, gamma)\n",
    "        return p_m1_m2\n",
    "    def mass_integrand(m2,m1):\n",
    "        return p_m1_m2(m2,m1) * (m1 * m2) / np.power(m1 + m2, 1./3)\n",
    "    def double_integral(integrand):\n",
    "        int_over_m2 = np.zeros(len(possible_masses)) \n",
    "        for i in range(len(int_over_m2)):\n",
    "            # does it make sense for the upper limit and m1 argument in p to be the same?\n",
    "            int_over_m2[i] = inte.quad(integrand, m_min, possible_masses[i],args=possible_masses[i])[0]\n",
    "        int_over_m1 = inte.trapz(int_over_m2)\n",
    "        return int_over_m1\n",
    "    \n",
    "    #p_norm = 1./ double_integral(p_m1_m2) #this works too! its just slower.\n",
    "    integral = double_integral(mass_integrand) \n",
    "    \n",
    "    return p_norm * integral\n",
    "\n",
    "#redshift evolution\n",
    "def int_over_z(z,Omega_m,Omega_Lam,Omega_r, zp=0,alpha=0,beta=0):\n",
    "    ''' putting in values for zp, alpha, and beta gives the redshift evolution in Callister et al 2020'''\n",
    "    Omega_k = 1 - (Omega_m + Omega_Lam + Omega_r)\n",
    "    H_z = np.sqrt(Omega_Lam + Omega_r * (1 + z)**4. + Omega_m * (1 + z)**3. + Omega_k * (1 + z)**2. )\n",
    "    \n",
    "    z_evo = np.power(1+z,alpha)/(1+ np.power((1+z)/(1+zp),beta))\n",
    "    C =  1 + np.power(1+zp,-1*(alpha+beta))\n",
    "    \n",
    "    integrand = z_evo * C / ((1+z)*H_z)\n",
    "    return integrand\n",
    "\n",
    "#final fractional energy density\n",
    "def OmegaGW(zf,Omega_m,fref,massdist=equal_masses,z_evo_params=[0,0,0]):\n",
    "    fpiG = np.power(fref*np.pi*G,2./3)/3.\n",
    "    rhoc2 = ( c**2 ) * ( H0**2 ) * 3 /( 8 * np.pi * G )\n",
    "    massfac = massdist(gamma,m_min,m_max) * np.power(u.Msun,5./3)\n",
    "    integral = inte.quad(int_over_z,0,zf,\n",
    "                         args=(Omega_m, 1-Omega_m,0,z_evo_params[0],\n",
    "                               z_evo_params[1],z_evo_params[2])\n",
    "                        )[0]\n",
    "    integral *= 1./H0\n",
    "    \n",
    "    return (integral * Rate * massfac * fpiG / rhoc2).to(u.m/u.m)"
   ]
  },
  {
   "cell_type": "code",
   "execution_count": 46,
   "metadata": {
    "collapsed": false
   },
   "outputs": [
    {
     "data": {
      "text/latex": [
       "$4.5327798 \\times 10^{-9} \\; \\mathrm{}$"
      ],
      "text/plain": [
       "<Quantity 4.5327798422611224e-09>"
      ]
     },
     "execution_count": 46,
     "metadata": {},
     "output_type": "execute_result"
    }
   ],
   "source": [
    "#define arrays for evaluating\n",
    "zf_array = np.linspace(0.1, 10,num=50)\n",
    "Omega_m_array = np.linspace(0,1.4,num=50)\n",
    "Omega_gw_z_free = np.zeros(len(zf_array))\n",
    "Omega_gw_Omegam_free = np.zeros(len(Omega_m_array))\n",
    "\n",
    "redshift_evolution_parameters = [5.,2.,7.] #zpeak, alpha, beta\n",
    "#test\n",
    "OmegaGW(1000,0.3,fref,massdist=plaw_selection,z_evo_params=redshift_evolution_parameters)"
   ]
  },
  {
   "cell_type": "markdown",
   "metadata": {},
   "source": [
    "I've noticed that changing beta_q by an order of magnitude only changes the second decimal of the above result"
   ]
  },
  {
   "cell_type": "code",
   "execution_count": 47,
   "metadata": {
    "collapsed": false
   },
   "outputs": [],
   "source": [
    "#have to do it with a loop because of how inte.quad works\n",
    "for i in range(len(zf_array)):\n",
    "    Omega_gw_z_free[i]= OmegaGW(zf_array[i],0.3,fref,\n",
    "                                massdist=plaw_selection,z_evo_params=redshift_evolution_parameters)\n",
    "    Omega_gw_Omegam_free[i] = OmegaGW(6.,Omega_m_array[i],fref,\n",
    "                                      massdist=plaw_selection,z_evo_params=redshift_evolution_parameters)"
   ]
  },
  {
   "cell_type": "code",
   "execution_count": 48,
   "metadata": {
    "collapsed": false
   },
   "outputs": [
    {
     "data": {
      "image/png": "[encoded data removed]",
      "text/plain": [
       "<Figure size 432x288 with 1 Axes>"
      ]
     },
     "metadata": {},
     "output_type": "display_data"
    },
    {
     "data": {
      "image/png": "[encoded data removed]",
      "text/plain": [
       "<Figure size 432x288 with 1 Axes>"
      ]
     },
     "metadata": {},
     "output_type": "display_data"
    },
    {
     "data": {
      "image/png": "[encoded data removed]",
      "text/plain": [
       "<Figure size 432x288 with 1 Axes>"
      ]
     },
     "metadata": {},
     "output_type": "display_data"
    }
   ],
   "source": [
    "plt.plot(zf_array,Omega_gw_z_free)\n",
    "#plt.axhline(OmegaGW_limit)\n",
    "plt.xlabel('farthest redshift')\n",
    "plt.ylabel('Omega_ref')\n",
    "plt.show()\n",
    "\n",
    "plt.plot(Omega_m_array,Omega_gw_Omegam_free)\n",
    "#plt.axhline(OmegaGW_limit)\n",
    "plt.xlabel('Omega_matter')\n",
    "plt.ylabel('Omega_ref')\n",
    "plt.show()\n",
    "\n",
    "plt.plot(f_array,Omega_gw_of_f)\n",
    "#plt.axhline(OmegaGW_limit)\n",
    "plt.xlabel('f [Hz]')\n",
    "plt.ylabel('Omega(f)')\n",
    "plt.xscale('log')\n",
    "plt.yscale('log')\n",
    "plt.show()"
   ]
  },
  {
   "cell_type": "markdown",
   "metadata": {
    "collapsed": true
   },
   "source": [
    "oh lol obviously its going to be linear on a log-log... im enforcing it to be a power law!"
   ]
  },
  {
   "cell_type": "markdown",
   "metadata": {},
   "source": [
    "### Examining interplay between redshift evolution of rate and mass distributions\n",
    "find `zp` as a function of `beta_q`, given `Omega_gw_limit` :\n",
    "\n",
    "To do this, I need to create a grid of `zp` and `beta_q` and compute `Omega_gw` for each point on that grid. Then, I need to find the subspace where `Omega_GW < Omega_gw_limit`"
   ]
  },
  {
   "cell_type": "code",
   "execution_count": null,
   "metadata": {
    "collapsed": false
   },
   "outputs": [],
   "source": [
    "beta_q_array = np.linspace(-50,50)\n",
    "zp_array = np.linspace(0,5)\n",
    "alpha_arr = np.array([-25,-20,-10,0,10,20,25],dtype=float)\n",
    "Omega_gw_zb = np.zeros((len(beta_q_array),len(zp_array),len(alpha_arr)))\n",
    "for z in range(len(zp_array)):\n",
    "    for a in range(len(alpha_arr)):\n",
    "        z_params = [zp_array[z], alpha_arr[a], 7.]\n",
    "        for b in range(len(beta_q_array)):\n",
    "            beta_q = beta_q_array[b]\n",
    "            Omega_gw_zb[b,z,a] = OmegaGW(1000,0.3,fref,massdist=plaw_selection,z_evo_params=z_params)"
   ]
  },
  {
   "cell_type": "code",
   "execution_count": null,
   "metadata": {
    "collapsed": false
   },
   "outputs": [],
   "source": [
    "Omega_xr = xr.DataArray(Omega_gw_zb,\n",
    "                        dims = ('beta_q','zp','alpha'),\n",
    "                        coords = (beta_q_array,zp_array,alpha_arr),\n",
    "                        name = 'Omega_GW')"
   ]
  },
  {
   "cell_type": "code",
   "execution_count": 59,
   "metadata": {
    "collapsed": false
   },
   "outputs": [],
   "source": [
    "#fix an issue:\n",
    "Omega_gw_zb_neg10 = np.zeros((len(beta_q_array),len(zp_array)))\n",
    "for z in range(len(zp_array)):\n",
    "    z_params = [zp_array[z], -10, 7.]\n",
    "    for b in range(len(beta_q_array)):\n",
    "        beta_q = beta_q_array[b]\n",
    "        Omega_gw_zb_neg10[b,z] = OmegaGW(1000,0.3,fref,massdist=plaw_selection,z_evo_params=z_params)\n",
    "\n",
    "insert = xr.DataArray(Omega_gw_zb_neg10,\n",
    "                        dims = ('beta_q','zp'),\n",
    "                        coords = (beta_q_array,zp_array),\n",
    "                        name = 'Omega_GW')\n",
    "\n",
    "Omega_xr_copy=Omega_xr\n",
    "Omega_xr_copy[:,:,2] = insert\n",
    "Omega_xr_copy = Omega_xr_copy.assign_coords(alpha=(np.array([-25,-20,-10,0,10,20,25],dtype=float)))"
   ]
  },
  {
   "cell_type": "code",
   "execution_count": 90,
   "metadata": {
    "collapsed": false
   },
   "outputs": [
    {
     "data": {
      "image/png": "[encoded data removed]",
      "text/plain": [
       "<Figure size 432x288 with 2 Axes>"
      ]
     },
     "metadata": {},
     "output_type": "display_data"
    }
   ],
   "source": [
    "from matplotlib.colors import LogNorm\n",
    "# Omega_xr.plot()\n",
    "Omega_xr_copy.isel({'zp':0}).plot(norm=LogNorm(vmin=1e-20, vmax=1e45))\n",
    "# plt.contour(Omega_xr[Omega_gw_zb<OmegaGW_limit])\n",
    "plt.show()\n",
    "#so alpha has a huge effect whereas beta_q doesnt really"
   ]
  },
  {
   "cell_type": "code",
   "execution_count": null,
   "metadata": {
    "collapsed": true
   },
   "outputs": [],
   "source": [
    "f_array = np.logspace(1,3) * u.Hz\n",
    "Omega_gw_of_f = np.zeros_like(f_array)\n",
    "\n",
    "for i in range(len(f_array)):\n",
    "    Omega_gw_of_f[i] = OmegaGW(10, 0.3, fref=f_array[i],massdist=plaw_selection,z_evo_params=redshift_evolution_parameters)"
   ]
  },
  {
   "cell_type": "code",
   "execution_count": null,
   "metadata": {
    "collapsed": true
   },
   "outputs": [],
   "source": []
  }
 ],
 "metadata": {
  "anaconda-cloud": {},
  "kernelspec": {
   "display_name": "Python [conda root]",
   "language": "python",
   "name": "conda-root-py"
  },
  "language_info": {
   "codemirror_mode": {
    "name": "ipython",
    "version": 2
   },
   "file_extension": ".py",
   "mimetype": "text/x-python",
   "name": "python",
   "nbconvert_exporter": "python",
   "pygments_lexer": "ipython2",
   "version": "2.7.12"
  }
 },
 "nbformat": 4,
 "nbformat_minor": 1
}
