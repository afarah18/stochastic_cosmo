{
 "cells": [
  {
   "cell_type": "code",
   "execution_count": 1,
   "metadata": {
    "collapsed": true
   },
   "outputs": [],
   "source": [
    "import numpy as np\n",
    "import matplotlib.pyplot as plt\n",
    "from matplotlib.colors import LogNorm\n",
    "from scipy import integrate as inte\n",
    "from astropy import units as u\n",
    "from astropy import constants as const\n",
    "import pandas as pd\n",
    "import xarray as xr"
   ]
  },
  {
   "cell_type": "code",
   "execution_count": 87,
   "metadata": {
    "collapsed": true
   },
   "outputs": [],
   "source": [
    "#constants and units\n",
    "H0 = 67.9 * u.km/u.s/u.Mpc\n",
    "c = const.c\n",
    "G = const.G.to(u.km**2 * u.Mpc /u.Msun/u.s**2)\n",
    "\n",
    "Rate = 30.0 /(u.Gpc**3 * u.year)"
   ]
  },
  {
   "cell_type": "markdown",
   "metadata": {},
   "source": [
    "## Calculate $\\Omega_{GW}$ \n",
    "$ \\rho_c c^2 \\Omega_{GW} (f) = \\frac{(f \\pi G)^{2/3}}{3} \\mathcal{R_0} \\mathcal{M}^{5/3} \\int_0^{z_f} \\frac{\\mathrm{d}z}{(1+z)^{4/3} H(z)} \\text{(z-evo)} $\n",
    "\n",
    "where $ \\text{z-evo} = \\mathcal{C}(\\alpha,\\beta,z_p) \\frac{(1+z)^{\\alpha}}{1 + (\\frac{1+z}{1+z_p})^{\\alpha+\\beta}} $ is the redshift evolution of the merger rate."
   ]
  },
  {
   "cell_type": "code",
   "execution_count": 176,
   "metadata": {
    "collapsed": true
   },
   "outputs": [],
   "source": [
    "#redshift evolution\n",
    "def int_over_z(z,Omega_m,Omega_Lam,Omega_r, zp=0,alpha=0,beta=0):\n",
    "    ''' putting in values for zp, alpha, and beta gives the redshift evolution in Callister et al 2020'''\n",
    "    Omega_k = 1 - (Omega_m + Omega_Lam + Omega_r)\n",
    "    H_z = np.sqrt(Omega_Lam + Omega_r * (1 + z)**4. + Omega_m * (1 + z)**3. + Omega_k * (1 + z)**2. )\n",
    "    \n",
    "    z_evo = np.power(1+z,alpha)/(1+ np.power((1+z)/(1+zp),beta+alpha))\n",
    "    C = 1 + np.power(1+zp,-1*(alpha+beta))\n",
    "    \n",
    "    integrand = z_evo * C / (H_z*np.power(1+z,4./3.))\n",
    "    return integrand"
   ]
  },
  {
   "cell_type": "code",
   "execution_count": 79,
   "metadata": {
    "collapsed": false
   },
   "outputs": [],
   "source": [
    "#--- get all z-evos for different peak reshift and rising power law ---#\n",
    "zp_array = np.linspace(0,5)\n",
    "alpha_arr = np.linspace(-20,20)\n",
    "z_int_arr = np.zeros((len(zp_array),len(alpha_arr))) / H0.unit\n",
    "\n",
    "for z in range(len(zp_array)):\n",
    "    for a in range(len(alpha_arr)):\n",
    "        z_params = [zp_array[z], alpha_arr[a], 3.] #beta=3 always\n",
    "        z_int = inte.quad(int_over_z,0,10.,\n",
    "                         args=(0.3, 0.7,0,z_params[0],\n",
    "                               z_params[1],z_params[2])\n",
    "                        )[0]\n",
    "        z_int *= 1./H0\n",
    "        z_int_arr[z,a] = z_int"
   ]
  },
  {
   "cell_type": "markdown",
   "metadata": {},
   "source": [
    "## Convert from $\\Omega_{GW}$ to Optimal SNR\n",
    "\n",
    "$ <S/N>_{opt}^2 = 2 T (\\frac{3H_O^2}{10\\pi^2})^2 \\int_0^\\infty df \\frac{\\gamma^2(f) \\Omega_{GW}^2(f)}{f^6 P_1(f) P_2(f)}  $ \n",
    "\n",
    "where $\\gamma(f)$ is the overlap reduction function, $\\Omega_{GW} \\propto f^{2/3}$ and $P_i (f)$ are the PSDs of each of the two LIGO detectors.\n",
    "\n",
    "Plugging in $\\Omega_{GW}$ from above yields\n",
    "\n",
    "$<S/N>_{opt} = (\\pi G)^{2/3} \\frac{\\mathcal{R}_0 \\mathcal{M}^{5/3}}{\\rho_c c^2} \\text{(z-evo)} \\frac{H_0^2}{10 \\pi^2} \\sqrt{2 T \\int_0^\\infty df \\frac {f^{-14/3} \\gamma^2(f)}{P_1(f) P_2(f)} }$"
   ]
  },
  {
   "cell_type": "code",
   "execution_count": 192,
   "metadata": {
    "code_folding": [],
    "collapsed": true
   },
   "outputs": [],
   "source": [
    "def overlap_reduction(f):\n",
    "    if f < 250:\n",
    "        olr = olr_below\n",
    "    else:\n",
    "        olr = olr_above\n",
    "    return np.interp(f,olr[:,0],olr[:,1])\n",
    "\n",
    "def f_integrand(f,obs_run):\n",
    "    overlap = overlap_reduction(f) **2. \n",
    "    freq_power = np.power(f,-14./3.)\n",
    "    if obs_run == 'O1':\n",
    "        PH = PSD_O1_xr.sel(freq=f,method='nearest').Hanford\n",
    "        PL = PSD_O1_xr.sel(freq=f,method='nearest').Livingston\n",
    "    elif obs_run== 'O2':\n",
    "        PH = PSD_O2_xr.sel(freq=f,method='nearest').Hanford\n",
    "        PL = PSD_O2_xr.sel(freq=f,method='nearest').Livingston\n",
    "        \n",
    "    return overlap * freq_power / (PH * PL)"
   ]
  },
  {
   "cell_type": "markdown",
   "metadata": {},
   "source": [
    "I get PSDs $P_1$ and $P_2$ from the Livingston and Hanford's \"representative best\" strain curves from O1 and O2. The PSD is the square of the strain curve (as far as I know, at least). Links here: \n",
    "\n",
    "H1+L1 sensitivity spectra, representative best of O2: https://dcc.ligo.org/LIGO-P1800374/public\n",
    "\n",
    "H1 sensitivity spectra, representative of O1: https://dcc.ligo.org/LIGO-G1600150/public\n",
    "\n",
    "L1 sensitivity spectra, representative of O1: https://dcc.ligo.org/LIGO-G1600151/public\n",
    "\n",
    "\n",
    "\n",
    "I get the overlap reduction function $\\gamma$ by digitizing the curves in Figure 2 of Allen+Romano 1999. Link here: https://journals.aps.org/prd/abstract/10.1103/PhysRevD.59.102001"
   ]
  },
  {
   "cell_type": "code",
   "execution_count": 16,
   "metadata": {
    "code_folding": [],
    "collapsed": true
   },
   "outputs": [],
   "source": [
    "#--- load in external datasets ---#\n",
    "olr_below = np.genfromtxt(\"data/overlap_reduction_below_200hz.csv\",delimiter=',')\n",
    "olr_below=olr_below[:-2]\n",
    "olr_above=np.genfromtxt(\"data/overlap_reduction_above_200hz.csv\",delimiter=',')\n",
    "\n",
    "PSD_O1 = pd.DataFrame()\n",
    "PSD_O1['freq'] = np.genfromtxt(\"data/2015_10_24_15_09_43_H1_O1_strain.txt\")[:,0]\n",
    "    #strains are the sqrt of the PSD\n",
    "PSD_O1['Hanford'] = np.power(np.genfromtxt(\"data/2015_10_24_15_09_43_H1_O1_strain.txt\")[:,1],2.) \n",
    "PSD_O1['Livingston'] = np.power(np.genfromtxt(\"data/2015_10_24_15_10_43_L1_O1_strain.txt\")[:,1],2.)\n",
    "\n",
    "PSD_O1_xr = xr.Dataset.from_dataframe(PSD_O1.set_index('freq'))\n",
    "\n",
    "PSD_O2 = pd.DataFrame()\n",
    "PSD_O2['freq'] = np.genfromtxt(\"data/2017-06-10_DCH_C02_H1_O2_Sensitivity_strain_asd.txt\")[:,0]\n",
    "PSD_O2['Hanford'] =  np.power(np.genfromtxt(\"data/2017-06-10_DCH_C02_H1_O2_Sensitivity_strain_asd.txt\")[:,1],2.)\n",
    "PSD_O2['Livingston'] =  np.power(np.genfromtxt(\"data/2017-08-06_DCH_C02_L1_O2_Sensitivity_strain_asd.txt\")[:,1],2.)\n",
    "\n",
    "PSD_O2_xr = xr.Dataset.from_dataframe(PSD_O2.set_index('freq'))"
   ]
  },
  {
   "cell_type": "code",
   "execution_count": 193,
   "metadata": {
    "collapsed": false
   },
   "outputs": [],
   "source": [
    "#--- set constants ---#\n",
    "#O1: September 12, 2015 to January 19, 2016\n",
    "days_in_O1 = len(pd.date_range(start='09-12-2015',end='01-19-2016',freq='D')) * u.day - 14*u.day\n",
    "\n",
    "#O2: November 30, 2016 to August 25, 2017\n",
    "days_in_O2 = len(pd.date_range(start='11-30-2016',end='08-25-2017',freq='D')) * u.day - 28 *u.day\n",
    "\n",
    "#componets of expression for SNR\n",
    "prefac_inner_prod = ( 3 * H0**2. / (10 * np.pi**2.))\n",
    "# f_integral_O1 = inte.quad(f_integrand, 1.5,6e3,args='O1', limit=200\n",
    "#                          )[0] * (u.s)**3 * (u.Hz)**(4./3)\n",
    "# f_integral_O2 = inte.quad(f_integrand, 1.5,6e3,args='O2', limit=200\n",
    "#                          )[0] * (u.s)**3 * (u.Hz)**(4./3)\n",
    "\n",
    "f_integral_O1 = inte.quad(f_integrand, 2.003e1,1.72e3,args='O1', limit=200\n",
    "                         )[0] * (u.s)**3 * (u.Hz)**(4./3)\n",
    "f_integral_O2 = inte.quad(f_integrand, 2.003e1,1.72e3,args='O2', limit=200\n",
    "                         )[0] * (u.s)**3 * (u.Hz)**(4./3)\n",
    "\n",
    "\n",
    "#components of expression for Omega_GW\n",
    "Mchirp = 13.05 * u.Msun #30.* u.Msun\n",
    "rhoc2 = ( c**2. ) * ( H0**2. ) * 3. /( 8. * np.pi * G )\n",
    "\n",
    "prefac_omegaGW = np.power(np.pi*G,2./3.) * Rate * np.power(Mchirp,5./3.) * z_int_arr / rhoc2"
   ]
  },
  {
   "cell_type": "markdown",
   "metadata": {},
   "source": [
    "Total SNR adds in quadrature from O1 and O2\n",
    "$S/N_{total} = S/N_{O1} + S/N_{O2} \\propto \\sqrt{T_{O1}} + \\sqrt{T_{O2}} $"
   ]
  },
  {
   "cell_type": "code",
   "execution_count": 194,
   "metadata": {
    "collapsed": true
   },
   "outputs": [],
   "source": [
    "rho_opt_O1 = prefac_inner_prod * prefac_omegaGW * np.sqrt(2 * days_in_O1 * f_integral_O1)\n",
    "rho_opt_O2 = prefac_inner_prod * prefac_omegaGW * np.sqrt(2 * days_in_O2 * f_integral_O2)\n",
    "SNR_arr = np.sqrt(rho_opt_O1**2+rho_opt_O2**2).to(u.m/u.m)"
   ]
  },
  {
   "cell_type": "markdown",
   "metadata": {},
   "source": [
    "#### Plot in the same style and with the same limits so as to make an easy comparison"
   ]
  },
  {
   "cell_type": "code",
   "execution_count": 195,
   "metadata": {
    "collapsed": false
   },
   "outputs": [
    {
     "data": {
      "image/png": "[encoded data removed]",
      "text/plain": [
       "<Figure size 432x288 with 2 Axes>"
      ]
     },
     "metadata": {},
     "output_type": "display_data"
    }
   ],
   "source": [
    "SNR_xr = xr.DataArray(SNR_arr,\n",
    "                        dims = ('zp','alpha'),\n",
    "                        coords = (zp_array,alpha_arr),\n",
    "                        name = 'SNR')\n",
    "SNR_xr.plot(norm=LogNorm(vmin=1e-2,vmax=1e3),cmap='Blues')\n",
    "SNR_xr.plot.contour(levels=[3,10],colors='black')\n",
    "plt.grid(linestyle=':')\n",
    "plt.show()"
   ]
  },
  {
   "cell_type": "markdown",
   "metadata": {},
   "source": [
    "#### Look at SNR where $\\alpha=10, z_p=1$"
   ]
  },
  {
   "cell_type": "code",
   "execution_count": 191,
   "metadata": {
    "collapsed": false
   },
   "outputs": [
    {
     "name": "stdout",
     "output_type": "stream",
     "text": [
      "<xarray.DataArray 'SNR' ()>\n",
      "array(184.514463)\n",
      "Coordinates:\n",
      "    zp       float64 1.02\n",
      "    alpha    float64 10.2\n"
     ]
    }
   ],
   "source": [
    "print(SNR_xr.sel({'alpha':10,'zp':1},method='nearest'))"
   ]
  },
  {
   "cell_type": "markdown",
   "metadata": {},
   "source": [
    "I find that at $z_{peak}= 1, \\alpha=10$, I get an SNR of ~238, whereas figure 2 of S+M seems to get SNR=3"
   ]
  },
  {
   "cell_type": "markdown",
   "metadata": {},
   "source": [
    "## Appendix: Alternate integration\n",
    "\n",
    "I get a warning message when I use scipy.integrate.quad(), I think because the PSDs have too many values for the integrator to work with order 100 samples. TI checked and the integration error is only one order of magnitude lower than the actual value. So I try it a different way that uses all of the values in the PSDs."
   ]
  },
  {
   "cell_type": "code",
   "execution_count": 34,
   "metadata": {
    "collapsed": true
   },
   "outputs": [],
   "source": [
    "f_integrand_arr = (np.power(PSD_O2_xr.freq, -14./3.) \\\n",
    "                   * np.interp(PSD_O2_xr.freq,olr_above[:,0],olr_above[:,1]) **2. \\\n",
    "                  )/ (PSD_O2_xr.Hanford * PSD_O2_xr.Livingston)\n",
    "f_integral_O2_tz = inte.trapz(f_integrand_arr) * (u.s)**3 * (u.Hz)**(4./3)\n",
    "\n",
    "f_integrand_arr = (np.power(PSD_O1_xr.freq, -14./3.) \\\n",
    "                   * np.interp(PSD_O1_xr.freq,olr_above[:,0],olr_above[:,1]) **2. \\\n",
    "                  ) / (PSD_O1_xr.Hanford * PSD_O1_xr.Livingston)\n",
    "f_integral_O1_tz = inte.trapz(f_integrand_arr) * (u.s)**3 * (u.Hz)**(4./3)"
   ]
  },
  {
   "cell_type": "code",
   "execution_count": 36,
   "metadata": {
    "collapsed": false
   },
   "outputs": [
    {
     "data": {
      "image/png": "[encoded data removed]",
      "text/plain": [
       "<Figure size 432x288 with 2 Axes>"
      ]
     },
     "metadata": {},
     "output_type": "display_data"
    },
    {
     "name": "stdout",
     "output_type": "stream",
     "text": [
      "<xarray.DataArray 'SNR' ()>\n",
      "array(136.844911)\n",
      "Coordinates:\n",
      "    zp       float64 1.02\n",
      "    alpha    float64 10.2\n"
     ]
    }
   ],
   "source": [
    "rho_opt_O1 = prefac_inner_prod * prefac_omegaGW * np.sqrt(\n",
    "    2 * days_in_O1 * f_integral_O1_tz)\n",
    "rho_opt_O2 = prefac_inner_prod * prefac_omegaGW * np.sqrt(\n",
    "    2 * days_in_O2 * f_integral_O2_tz)\n",
    "SNR_arr = np.sqrt(rho_opt_O1**2.+rho_opt_O2**2.).to(u.m/u.m)\n",
    "\n",
    "SNR_xr = xr.DataArray(SNR_arr,\n",
    "                        dims = ('zp','alpha'),\n",
    "                        coords = (zp_array,alpha_arr),\n",
    "                        name = 'SNR')\n",
    "SNR_xr.plot(norm=LogNorm(vmin=1e-2,vmax=1e3),cmap='Blues')\n",
    "SNR_xr.plot.contour(levels=[3,10],colors='black')\n",
    "plt.grid(linestyle=':')\n",
    "plt.show()\n",
    "\n",
    "print(SNR_xr.sel({'alpha':10,'zp':1},method='nearest'))"
   ]
  },
  {
   "cell_type": "markdown",
   "metadata": {},
   "source": [
    "This doesn't help and actually makes the disagreement slightly worse! :("
   ]
  },
  {
   "cell_type": "markdown",
   "metadata": {
    "collapsed": true
   },
   "source": [
    "## Appendix: Cross-checks across mine and Tom's code"
   ]
  },
  {
   "cell_type": "code",
   "execution_count": 29,
   "metadata": {
    "collapsed": false
   },
   "outputs": [
    {
     "name": "stdout",
     "output_type": "stream",
     "text": [
      "41.7691150856 Hz(2/3)\n",
      "13.0582584494 solMass\n",
      "0.000136954193713 km(4/3) Mpc(2/3) solMass / s(4/3)\n"
     ]
    }
   ],
   "source": [
    "#are we using the same chirp mass?\n",
    "MsunToSec = G/np.power(c,3.)\n",
    "eta = 0.25\n",
    "Mtot=30. *u.Msun\n",
    "fMerge = (0.29740*eta**2. + 0.044810*eta + 0.095560)/(np.pi*Mtot*MsunToSec)\n",
    "print(fMerge.to(u.Hz)**(2./3))\n",
    "\n",
    "Mc = np.power(eta,3./5.)*Mtot\n",
    "print Mc\n",
    "amp = np.power(G*np.pi,2./3.)*np.power(Mc,5./3.)/3.\n",
    "print amp"
   ]
  },
  {
   "cell_type": "code",
   "execution_count": 48,
   "metadata": {
    "collapsed": false
   },
   "outputs": [
    {
     "name": "stdout",
     "output_type": "stream",
     "text": [
      "my integration limits:  4.82602787056e+83 Hz(4/3) s3 2.08583250304e+84 Hz(4/3) s3\n",
      "using toms \"lowFreqs\" : 5.47292115009e+83 Hz(4/3) s3 2.08444619961e+84 Hz(4/3) s3\n"
     ]
    }
   ],
   "source": [
    "f_integral_O1 = inte.quad(f_integrand, 1.5,6e3,args='O1', limit=200\n",
    "                         )[0] * (u.s)**3 * (u.Hz)**(4./3)\n",
    "f_integral_O2 = inte.quad(f_integrand, 1.5,6e3,args='O2', limit=200\n",
    "                         )[0] * (u.s)**3 * (u.Hz)**(4./3)\n",
    "\n",
    "print 'my integration limits: ', f_integral_O1, f_integral_O2\n",
    "\n",
    "f_integral_O1 = inte.quad(f_integrand, 20,1.72e3,args='O1', limit=200\n",
    "                         )[0] * (u.s)**3 * (u.Hz)**(4./3)\n",
    "f_integral_O2 = inte.quad(f_integrand, 20, 1.72e3,args='O2', limit=200\n",
    "                         )[0] * (u.s)**3 * (u.Hz)**(4./3)\n",
    "\n",
    "print 'using toms \"lowFreqs\" :' ,  f_integral_O1, f_integral_O2\n"
   ]
  },
  {
   "cell_type": "markdown",
   "metadata": {},
   "source": [
    "so its off by 10% max"
   ]
  },
  {
   "cell_type": "code",
   "execution_count": 46,
   "metadata": {
    "collapsed": false
   },
   "outputs": [
    {
     "data": {
      "text/plain": [
       "<xarray.DataArray 'freq' (freq: 47921)>\n",
       "array([  10.   ,   10.125,   10.25 , ..., 5999.75 , 5999.875, 6000.   ])\n",
       "Coordinates:\n",
       "  * freq     (freq) float64 10.0 10.12 10.25 10.38 ... 6e+03 6e+03 6e+03 6e+03"
      ]
     },
     "execution_count": 46,
     "metadata": {},
     "output_type": "execute_result"
    }
   ],
   "source": [
    "#what are my potential limits of integration?\n",
    "PSD_O1_xr.freq\n",
    "#cool i have data up to 6e3 Hz"
   ]
  },
  {
   "cell_type": "code",
   "execution_count": 123,
   "metadata": {
    "collapsed": false
   },
   "outputs": [
    {
     "name": "stdout",
     "output_type": "stream",
     "text": [
      "(200L, 47629L)\n",
      "(47629L, 200L)\n",
      "(200L,)\n",
      "(47629L,)\n",
      "(200L, 47629L)\n",
      "(47629L, 200L)\n",
      "(200L,)\n",
      "(47629L,)\n"
     ]
    }
   ],
   "source": [
    "#is the approximation of dEdf \\propto f^-1/3 always (i.e. inspiral dominates) the problem?\n",
    "\n",
    "year = 365.25*24*3600.\n",
    "Mpc = 3.09e16*1e6\n",
    "Gpc = Mpc*1e3\n",
    "Msun = 1.99e30\n",
    "c = 2.998e8\n",
    "G = 6.67e-11\n",
    "MsunToSec = Msun*G/np.power(c,3.)\n",
    "OmgM = 0.31\n",
    "OmgL = 0.69\n",
    "H0 = 67.7*(10.**3.)/Mpc # SI units\n",
    "R0_example = 50./year/np.power(1.e3,3) # 1/Gpc^3/s converted to 1/Mpc^3/s\n",
    "rhoC = 3.*np.power(H0*c,2.)/(8.*np.pi*G)*np.power(Mpc,3.) # Converted to J/Mpc^3\n",
    "\n",
    "def dEdf(Mtot,freqs,eta=0.25):\n",
    "\n",
    "    # Define IMR parameters\n",
    "    fMerge = (0.29740*eta**2. + 0.044810*eta + 0.095560)/(np.pi*Mtot*MsunToSec)\n",
    "    fRing = (0.59411*eta**2. + 0.089794*eta + 0.19111)/(np.pi*Mtot*MsunToSec)\n",
    "    fCut = (0.84845*eta**2. + 0.12828*eta + 0.27299)/(np.pi*Mtot*MsunToSec)\n",
    "    sigma = (0.50801*eta**2. + 0.077515*eta + 0.022369)/(np.pi*Mtot*MsunToSec)\n",
    "\n",
    "    # Initialize energy density, identify piecewise components\n",
    "    dEdf_spectrum = np.zeros(freqs.shape)\n",
    "    inspiral = freqs<fMerge\n",
    "    merger = (freqs>=fMerge)*(freqs<fRing)\n",
    "    ringdown = (freqs>=fRing)*(freqs<fCut)\n",
    "\n",
    "    # Fill\n",
    "    dEdf_spectrum[inspiral] = np.power(freqs[inspiral],-1./3.)\n",
    "    dEdf_spectrum[merger] = np.power(freqs[merger],2./3.)/fMerge\n",
    "    dEdf_spectrum[ringdown] = np.square(freqs[ringdown]/(1.+np.square((freqs[ringdown]-fRing)/(sigma/2.))))/(fMerge*fRing**(4./3.))\n",
    "\n",
    "    # Normalization\n",
    "    Mc = np.power(eta,3./5.)*Mtot*Msun\n",
    "    amp = np.power(G*np.pi,2./3.)*np.power(Mc,5./3.)/3.\n",
    "\n",
    "    return amp*dEdf_spectrum\n",
    "\n",
    "def dEdf_inspiral(Mtot,freqs,eta=0.25):\n",
    "    Mc = np.power(eta,3./5.)*Mtot*Msun\n",
    "    amp = np.power(G*np.pi,2./3.)*np.power(Mc,5./3.)/3.\n",
    "    return amp* np.power(freqs,-1./3.)\n",
    "\n",
    "def dPdz(zs,alpha,beta,zp):\n",
    "    pzs = np.power(1.+zs,alpha)/(1.+np.power((1.+zs)/(1.+zp),alpha+beta))\n",
    "    pzs /= pzs[0]\n",
    "    return pzs\n",
    "\n",
    "def OmegaGW_tom(R0,alpha,beta,zp,freqs,dedf_func):\n",
    "\n",
    "    zs = np.arange(0.,10.,0.05)\n",
    "    dz = zs[1]-zs[0]\n",
    "\n",
    "    # Evaluate energy density of singe object\n",
    "    redshiftedFreqs = np.array([freqs*(1.+z) for z in zs])\n",
    "    print redshiftedFreqs.shape\n",
    "    dedf = dedf_func(30.,redshiftedFreqs).T\n",
    "    print dedf.shape\n",
    "    \n",
    "    # Redshift integrand\n",
    "    R_invE = R0*dPdz(zs,alpha,beta,zp)/np.sqrt(OmgM*(1.+zs)**3.+OmgL)/(1.+zs)\n",
    "    print R_invE.shape\n",
    "\n",
    "    # Convert to energy density\n",
    "    Omg_spectrum = (freqs/rhoC/H0)*dedf.dot(R_invE)*dz #this is an integral over redshift\n",
    "    print dedf.dot(R_invE).shape\n",
    "    return Omg_spectrum\n",
    "\n",
    "Ogw_tom = OmegaGW_tom(30./1e9/year,10.,3.,1.,freqs_stoch,dEdf)\n",
    "Ogw_tom_inspiral = OmegaGW_tom(30./1e9/year,10.,3.,1.,freqs_stoch,dEdf_inspiral)"
   ]
  },
  {
   "cell_type": "code",
   "execution_count": 179,
   "metadata": {
    "collapsed": false
   },
   "outputs": [],
   "source": [
    "H0 = 67.7 * u.km/u.s/u.Mpc\n",
    "c = const.c\n",
    "G = const.G.to(u.km**2 * u.Mpc /u.Msun/u.s**2)\n",
    "\n",
    "Rate = 30.0 /(u.Gpc**3 * u.year)\n",
    "\n",
    "#my func, but using the chirp mass Tom seems to inadvertently use\n",
    "def one_chirp_mass():\n",
    "    '''instead of a distribution in mass, we just pretend all systems have equal mass components \n",
    "    and chirp mass 30 Msun'''\n",
    "    Mchirp = Mc #13.05 - calculated 2 cells up\n",
    "    massfac = np.power(Mchirp,5./3.)\n",
    "    return massfac\n",
    "\n",
    "def OmegaGW_mine_w_tom_signature(R0,alpha,beta,zp,freqs):\n",
    "    fpiG = np.power(freqs*np.pi*G,2./3)/3. #* freqs\n",
    "    rhoc2 = ( c**2 ) * ( H0**2 ) * 3 /( 8 * np.pi * G )\n",
    "    massfac = one_chirp_mass().value * np.power(u.Msun,5./3)\n",
    "    Omega_m=0.31\n",
    "    integral = inte.quad(int_over_z,0,1e3,\n",
    "                         args=(Omega_m, 1-Omega_m,0,zp,\n",
    "                               alpha,beta)\n",
    "                        )[0]\n",
    "#     zs = np.arange(0.,10.,0.05)\n",
    "#     dz = zs[1]-zs[0]\n",
    "#     redshiftedFreqs = np.array([freqs.value*(1.+z) for z in zs]).T * u.Hz\n",
    "#     integral = np.power(redshiftedFreqs,-1./3.).dot(int_over_z(zs,Omega_m, 1-Omega_m,0,zp,alpha,beta)) * dz\n",
    "    \n",
    "    integral *= 1./H0\n",
    "    \n",
    "    return (integral * R0 * massfac * fpiG / rhoc2).to(u.m/u.m)\n",
    "Ogw_me = OmegaGW_mine_w_tom_signature(Rate,10.,3.,1.,freqs_stoch*u.Hz)"
   ]
  },
  {
   "cell_type": "code",
   "execution_count": 180,
   "metadata": {
    "collapsed": false
   },
   "outputs": [
    {
     "data": {
      "image/png": "[encoded data removed]",
      "text/plain": [
       "<Figure size 432x288 with 1 Axes>"
      ]
     },
     "metadata": {},
     "output_type": "display_data"
    },
    {
     "name": "stdout",
     "output_type": "stream",
     "text": [
      "4.56598469867e-08 4.567668940857554e-08\n"
     ]
    }
   ],
   "source": [
    "plt.plot(freqs_stoch,Ogw_tom,label=\"Tom's original\")\n",
    "plt.plot(freqs_stoch,Ogw_tom_inspiral,label=\"Tom inspiral only\")\n",
    "plt.plot(freqs_stoch,Ogw_me,label='Mine (inspiral only)')\n",
    "plt.xlim(18,300)\n",
    "plt.legend()\n",
    "plt.yscale('log')\n",
    "plt.xscale('log')\n",
    "plt.show()\n",
    "print Ogw_me[0], Ogw_tom_inspiral[0]\n",
    "#mine and his with just inspiral have the same power, just a different scale"
   ]
  },
  {
   "cell_type": "markdown",
   "metadata": {},
   "source": [
    "Ok so this is a huge difference, but is it relevant once we switch to SNR?"
   ]
  },
  {
   "cell_type": "code",
   "execution_count": 174,
   "metadata": {
    "collapsed": false
   },
   "outputs": [
    {
     "name": "stderr",
     "output_type": "stream",
     "text": [
      "C:\\Users\\Owner\\Anaconda2\\lib\\site-packages\\ipykernel\\__main__.py:8: RuntimeWarning: invalid value encountered in divide\n",
      "C:\\Users\\Owner\\Anaconda2\\lib\\site-packages\\ipykernel\\__main__.py:9: RuntimeWarning: divide by zero encountered in divide\n"
     ]
    },
    {
     "name": "stdout",
     "output_type": "stream",
     "text": [
      "(200L, 47629L)\n",
      "(47629L, 200L)\n",
      "(200L,)\n",
      "(47629L,)\n",
      "(200L, 47629L)\n",
      "(47629L, 200L)\n",
      "(200L,)\n",
      "(47629L,)\n"
     ]
    }
   ],
   "source": [
    "#try to use the sigma data Tom uses - seems to be sigma=PSD/olr_func\n",
    "\n",
    "# Import stochastic data\n",
    "freqs_O1,C_O1,sigma_O1 = np.loadtxt('./data/Cf_O1.dat',unpack=True,skiprows=1)\n",
    "freqs_O2,C_O2,sigma_O2 = np.loadtxt('./data/Cf_O2.dat',unpack=True,skiprows=1)\n",
    "\n",
    "# Combine\n",
    "C_stoch = (C_O1/sigma_O1**2. + C_O2/sigma_O2**2.)/(1./sigma_O1**2. + 1./sigma_O2**2.)\n",
    "sigma_stoch = 1./np.sqrt(1./sigma_O1**2. + 1./sigma_O2**2.)\n",
    "sigma2_stoch = np.power(sigma_stoch,2.)\n",
    "freqs_stoch = freqs_O2\n",
    "\n",
    "# Select only frequencies with data\n",
    "goodInds = np.where(C_stoch==C_stoch)\n",
    "freqs_stoch = freqs_stoch[goodInds]\n",
    "sigma2_stoch = sigma2_stoch[goodInds]\n",
    "\n",
    "#my units\n",
    "H0 = 67.9 * u.km/u.s/u.Mpc\n",
    "c = const.c\n",
    "G = const.G.to(u.km**2 * u.Mpc /u.Msun/u.s**2)\n",
    "\n",
    "Rate = 30.0 /(u.Gpc**3 * u.year)\n",
    "\n",
    "#toms snr converter\n",
    "beta = 3.\n",
    "OmgGW = OmegaGW_mine_w_tom_signature(Rate,10.,3.,1.,freqs_stoch*u.Hz)\n",
    "my_snr = np.sqrt(np.sum(np.power(OmgGW,2.)/sigma2_stoch)) \n",
    "\n",
    "#toms units\n",
    "year = 365.25*24*3600.\n",
    "Mpc = 3.09e16*1e6\n",
    "Gpc = Mpc*1e3\n",
    "Msun = 1.99e30\n",
    "c = 2.998e8\n",
    "G = 6.67e-11\n",
    "MsunToSec = Msun*G/np.power(c,3.)\n",
    "OmgM = 0.31\n",
    "OmgL = 0.69\n",
    "H0 = 67.7*(10.**3.)/Mpc # SI units\n",
    "R0_example = 50./year/np.power(1.e3,3) # 1/Gpc^3/s converted to 1/Mpc^3/s\n",
    "rhoC = 3.*np.power(H0*c,2.)/(8.*np.pi*G)*np.power(Mpc,3.) # Converted to J/Mpc^3\n",
    "OmgGW = OmegaGW_tom(30./1e9/year,10.,3.,1.,freqs_stoch,dEdf)\n",
    "tom_snr = np.sqrt(np.sum(np.power(OmgGW,2.)/sigma2_stoch))\n",
    "OmgGW = OmegaGW_tom(30./1e9/year,10.,3.,1.,freqs_stoch,dEdf_inspiral)\n",
    "tom_snr_inspiral = np.sqrt(np.sum(np.power(OmgGW,2.)/sigma2_stoch))"
   ]
  },
  {
   "cell_type": "code",
   "execution_count": 175,
   "metadata": {
    "collapsed": false
   },
   "outputs": [
    {
     "name": "stdout",
     "output_type": "stream",
     "text": [
      "3.42154898042 3.4510802975686246 3.458023077304556\n"
     ]
    }
   ],
   "source": [
    "print my_snr, tom_snr_inspiral, tom_snr"
   ]
  },
  {
   "cell_type": "markdown",
   "metadata": {},
   "source": [
    "Yayuhhh. I think small differences are b/c of constants. now for The Latest Figure"
   ]
  },
  {
   "cell_type": "code",
   "execution_count": 182,
   "metadata": {
    "collapsed": false
   },
   "outputs": [],
   "source": [
    "zp_array = np.linspace(0,5)\n",
    "alpha_arr = np.linspace(-20,20)\n",
    "SNR_arr = np.zeros((len(zp_array),len(alpha_arr)))\n",
    "\n",
    "for z in range(len(zp_array)):\n",
    "    for a in range(len(alpha_arr)):\n",
    "        z_params = [zp_array[z], alpha_arr[a], 3.] #beta=3 always\n",
    "        \n",
    "        OmgGW = OmegaGW_mine_w_tom_signature(Rate,z_params[1],z_params[2],z_params[0],freqs_stoch*u.Hz)\n",
    "        my_snr = np.sqrt(np.sum(np.power(OmgGW,2.)/sigma2_stoch))\n",
    "        SNR_arr[z,a] = my_snr"
   ]
  },
  {
   "cell_type": "code",
   "execution_count": 183,
   "metadata": {
    "collapsed": false
   },
   "outputs": [
    {
     "data": {
      "image/png": "[encoded data removed]",
      "text/plain": [
       "<Figure size 432x288 with 2 Axes>"
      ]
     },
     "metadata": {},
     "output_type": "display_data"
    }
   ],
   "source": [
    "SNR_xr = xr.DataArray(SNR_arr,\n",
    "                        dims = ('zp','alpha'),\n",
    "                        coords = (zp_array,alpha_arr),\n",
    "                        name = 'SNR')\n",
    "SNR_xr.plot(norm=LogNorm(vmin=1e-2,vmax=1e3),cmap='Blues')\n",
    "SNR_xr.plot.contour(levels=[3,10],colors='black')\n",
    "plt.grid(linestyle=':')\n",
    "plt.show()"
   ]
  },
  {
   "cell_type": "code",
   "execution_count": 184,
   "metadata": {
    "collapsed": false
   },
   "outputs": [
    {
     "name": "stdout",
     "output_type": "stream",
     "text": [
      "<xarray.DataArray 'SNR' ()>\n",
      "array(4.314389)\n",
      "Coordinates:\n",
      "    zp       float64 1.02\n",
      "    alpha    float64 10.2\n"
     ]
    }
   ],
   "source": [
    "print(SNR_xr.sel({'alpha':10,'zp':1},method='nearest'))"
   ]
  },
  {
   "cell_type": "markdown",
   "metadata": {},
   "source": [
    "yayyyyy its completely identical"
   ]
  },
  {
   "cell_type": "code",
   "execution_count": null,
   "metadata": {
    "collapsed": true
   },
   "outputs": [],
   "source": []
  }
 ],
 "metadata": {
  "anaconda-cloud": {},
  "kernelspec": {
   "display_name": "Python [conda root]",
   "language": "python",
   "name": "conda-root-py"
  },
  "language_info": {
   "codemirror_mode": {
    "name": "ipython",
    "version": 2
   },
   "file_extension": ".py",
   "mimetype": "text/x-python",
   "name": "python",
   "nbconvert_exporter": "python",
   "pygments_lexer": "ipython2",
   "version": "2.7.12"
  }
 },
 "nbformat": 4,
 "nbformat_minor": 1
}
