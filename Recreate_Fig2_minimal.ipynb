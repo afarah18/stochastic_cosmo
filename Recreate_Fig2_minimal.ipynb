{
 "cells": [
  {
   "cell_type": "code",
   "execution_count": 1,
   "metadata": {
    "collapsed": true
   },
   "outputs": [],
   "source": [
    "import numpy as np\n",
    "import matplotlib.pyplot as plt\n",
    "from matplotlib.colors import LogNorm\n",
    "from scipy import integrate as inte\n",
    "from astropy import units as u\n",
    "from astropy import constants as const\n",
    "import pandas as pd\n",
    "import xarray as xr"
   ]
  },
  {
   "cell_type": "code",
   "execution_count": 2,
   "metadata": {
    "collapsed": true
   },
   "outputs": [],
   "source": [
    "#constants and units\n",
    "H0 = 67.9 * u.km/u.s/u.Mpc\n",
    "c = const.c\n",
    "G = const.G.to(u.km**2 * u.Mpc /u.Msun/u.s**2)\n",
    "\n",
    "Rate = 30.0 /(u.Gpc**3 * u.year)"
   ]
  },
  {
   "cell_type": "markdown",
   "metadata": {},
   "source": [
    "## Calculate $\\Omega_{GW}$ \n",
    "$ \\rho_c c^2 \\Omega_{GW} (f) = \\frac{(f \\pi G)^{2/3}}{3} \\mathcal{R_0} \\mathcal{M}^{5/3} \\int_0^{z_f} \\frac{\\mathrm{d}z}{(1+z)^{1/3} H(z)} \\text{(z-evo)} $\n",
    "\n",
    "where $ \\text{z-evo} = \\mathcal{C}(\\alpha,\\beta,z_p) \\frac{(1+z)^{\\alpha}}{1 + (\\frac{1+z}{1+z_p})^{\\alpha+\\beta}} $ is the redshift evolution of the merger rate."
   ]
  },
  {
   "cell_type": "code",
   "execution_count": 3,
   "metadata": {
    "collapsed": true
   },
   "outputs": [],
   "source": [
    "#redshift evolution\n",
    "def int_over_z(z,Omega_m,Omega_Lam,Omega_r, zp=0,alpha=0,beta=0):\n",
    "    ''' putting in values for zp, alpha, and beta gives the redshift evolution in Callister et al 2020'''\n",
    "    Omega_k = 1 - (Omega_m + Omega_Lam + Omega_r)\n",
    "    H_z = np.sqrt(Omega_Lam + Omega_r * (1 + z)**4. + Omega_m * (1 + z)**3. + Omega_k * (1 + z)**2. )\n",
    "    \n",
    "    z_evo = np.power(1+z,alpha)/(1+ np.power((1+z)/(1+zp),beta+alpha)) # checkthis?\n",
    "    C =  1 + np.power(1+zp,-1*(alpha+beta))\n",
    "    \n",
    "    integrand = z_evo * C / ((1+z)*H_z)\n",
    "    return integrand"
   ]
  },
  {
   "cell_type": "code",
   "execution_count": 4,
   "metadata": {
    "collapsed": false
   },
   "outputs": [],
   "source": [
    "#--- get all z-evos for different peak reshift and rising power law ---#\n",
    "zp_array = np.linspace(0,5)\n",
    "alpha_arr = np.linspace(-20,20)\n",
    "z_int_arr = np.zeros((len(zp_array),len(alpha_arr))) / H0.unit\n",
    "\n",
    "for z in range(len(zp_array)):\n",
    "    for a in range(len(alpha_arr)):\n",
    "        z_params = [zp_array[z], alpha_arr[a], 3.] #beta=3 always\n",
    "        z_int = inte.quad(int_over_z,0,1e3,\n",
    "                         args=(0.3, 0.7,0,z_params[0],\n",
    "                               z_params[1],z_params[2])\n",
    "                        )[0]\n",
    "        z_int *= 1./H0\n",
    "        z_int_arr[z,a] = z_int"
   ]
  },
  {
   "cell_type": "markdown",
   "metadata": {},
   "source": [
    "## Convert from $\\Omega_{GW}$ to Optimal SNR\n",
    "\n",
    "$ <S/N>_{opt}^2 = 2 T (\\frac{3H_O^2}{10\\pi^2})^2 \\int_0^\\infty df \\frac{\\gamma^2(f) \\Omega_{GW}^2(f)}{f^6 P_1(f) P_2(f)}  $ \n",
    "\n",
    "where $\\gamma(f)$ is the overlap reduction function, $\\Omega_{GW} \\propto f^{2/3}$ and $P_i (f)$ are the PSDs of each of the two LIGO detectors.\n",
    "\n",
    "Plugging in $\\Omega_{GW}$ from above yields\n",
    "\n",
    "$<S/N>_{opt} = (\\pi G)^{2/3} \\frac{\\mathcal{R}_0 \\mathcal{M}^{5/3}}{\\rho_c c^2} \\text{(z-evo)} \\frac{H_0^2}{10 \\pi^2} \\sqrt{2 T \\int_0^\\infty df \\frac {f^{-14/3} \\gamma^2(f)}{P_1(f) P_2(f)} }$"
   ]
  },
  {
   "cell_type": "code",
   "execution_count": 5,
   "metadata": {
    "code_folding": [],
    "collapsed": true
   },
   "outputs": [],
   "source": [
    "def overlap_reduction(f):\n",
    "    if f < 250:\n",
    "        olr = olr_below\n",
    "    else:\n",
    "        olr = olr_above\n",
    "    return np.interp(f,olr[:,0],olr[:,1])\n",
    "\n",
    "def f_integrand(f,obs_run):\n",
    "    overlap = overlap_reduction(f) **2. \n",
    "    freq_power = np.power(f,-14./3.)\n",
    "    if obs_run == 'O1':\n",
    "        PH = PSD_O1_xr.sel(freq=f,method='nearest').Hanford\n",
    "        PL = PSD_O1_xr.sel(freq=f,method='nearest').Livingston\n",
    "    elif obs_run== 'O2':\n",
    "        PH = PSD_O2_xr.sel(freq=f,method='nearest').Hanford\n",
    "        PL = PSD_O2_xr.sel(freq=f,method='nearest').Livingston\n",
    "        \n",
    "    return overlap * freq_power / (PH * PL)"
   ]
  },
  {
   "cell_type": "markdown",
   "metadata": {},
   "source": [
    "I get PSDs $P_1$ and $P_2$ from the Livingston and Hanford's \"representative best\" strain curves from O1 and O2. Links here: \n",
    "\n",
    "H1+L1 sensitivity spectra, representative best of O2: https://dcc.ligo.org/LIGO-P1800374/public\n",
    "\n",
    "H1 sensitivity spectra, representative of O1: https://dcc.ligo.org/LIGO-G1600150/public\n",
    "\n",
    "L1 sensitivity spectra, representative of O1: https://dcc.ligo.org/LIGO-G1600151/public\n",
    "\n",
    "The PSD is the square of the strain curve (as far as I know, at least).\n",
    "\n",
    "I get the overlap reduction function $\\gamma$ by digitizing the curves in Figure 2 of Allen+Romano 1999. Link here: https://journals.aps.org/prd/abstract/10.1103/PhysRevD.59.102001"
   ]
  },
  {
   "cell_type": "code",
   "execution_count": 6,
   "metadata": {
    "code_folding": [],
    "collapsed": true
   },
   "outputs": [],
   "source": [
    "#--- load in external datasets ---#\n",
    "olr_below = np.genfromtxt(\"data/overlap_reduction_below_200hz.csv\",delimiter=',')\n",
    "olr_below=olr_below[:-2]\n",
    "olr_above=np.genfromtxt(\"data/overlap_reduction_above_200hz.csv\",delimiter=',')\n",
    "\n",
    "PSD_O1 = pd.DataFrame()\n",
    "PSD_O1['freq'] = np.genfromtxt(\"data/2015_10_24_15_09_43_H1_O1_strain.txt\")[:,0]\n",
    "    #strains are the sqrt of the PSD\n",
    "PSD_O1['Hanford'] = np.power(np.genfromtxt(\"data/2015_10_24_15_09_43_H1_O1_strain.txt\")[:,1],2.) \n",
    "PSD_O1['Livingston'] = np.power(np.genfromtxt(\"data/2015_10_24_15_10_43_L1_O1_strain.txt\")[:,1],2.)\n",
    "\n",
    "PSD_O1_xr = xr.Dataset.from_dataframe(PSD_O1.set_index('freq'))\n",
    "\n",
    "PSD_O2 = pd.DataFrame()\n",
    "PSD_O2['freq'] = np.genfromtxt(\"data/2017-06-10_DCH_C02_H1_O2_Sensitivity_strain_asd.txt\")[:,0]\n",
    "PSD_O2['Hanford'] =  np.power(np.genfromtxt(\"data/2017-06-10_DCH_C02_H1_O2_Sensitivity_strain_asd.txt\")[:,1],2.)\n",
    "PSD_O2['Livingston'] =  np.power(np.genfromtxt(\"data/2017-08-06_DCH_C02_L1_O2_Sensitivity_strain_asd.txt\")[:,1],2.)\n",
    "\n",
    "PSD_O2_xr = xr.Dataset.from_dataframe(PSD_O2.set_index('freq'))"
   ]
  },
  {
   "cell_type": "code",
   "execution_count": 12,
   "metadata": {
    "collapsed": false
   },
   "outputs": [],
   "source": [
    "#--- set constants ---#\n",
    "#O1: September 12, 2015 to January 19, 2016\n",
    "days_in_O1 = len(pd.date_range(start='09-12-2015',end='01-19-2016',freq='D')) * u.day\n",
    "\n",
    "#O2: November 30, 2016 to August 25, 2017\n",
    "days_in_O2 = len(pd.date_range(start='11-30-2016',end='08-25-2017',freq='D')) * u.day\n",
    "\n",
    "prefac_inner_prod = ( 3 * H0**2. / (10 * np.pi**2.))\n",
    "f_integral_O1 = inte.quad(f_integrand, 1.5,6e3,args='O1', limit=200\n",
    "                         )[0] * (u.s)**3 * (u.Hz)**(4./3)\n",
    "f_integral_O2 = inte.quad(f_integrand, 1.5,6e3,args='O2', limit=200\n",
    "                         )[0] * (u.s)**3 * (u.Hz)**(4./3)\n",
    "\n",
    "Mchirp = 30.* u.Msun\n",
    "rhoc2 = ( c**2. ) * ( H0**2. ) * 3. /( 8. * np.pi * G )\n",
    "\n",
    "prefac_omegaGW = np.power(np.pi*G,2./3.) * Rate * np.power(Mchirp,5./3.) * z_int_arr / rhoc2"
   ]
  },
  {
   "cell_type": "markdown",
   "metadata": {},
   "source": [
    "Total SNR is additive from O1 and O2 (I think, not sure)\n",
    "$S/N_{total} = S/N_{O1} + S/N_{O2} \\propto \\sqrt{T_{O1}} + \\sqrt{T_{O2}} $"
   ]
  },
  {
   "cell_type": "code",
   "execution_count": 15,
   "metadata": {
    "collapsed": true
   },
   "outputs": [],
   "source": [
    "rho_opt_O1 = prefac_inner_prod * prefac_omegaGW * np.sqrt(2 * days_in_O1 * f_integral_O1)\n",
    "rho_opt_O2 = prefac_inner_prod * prefac_omegaGW * np.sqrt(2 * days_in_O2 * f_integral_O2)\n",
    "SNR_arr = (rho_opt_O1+rho_opt_O2).to(u.m/u.m)"
   ]
  },
  {
   "cell_type": "markdown",
   "metadata": {},
   "source": [
    "#### Plot in the same style and with the same limits so as to make an easy comparison"
   ]
  },
  {
   "cell_type": "code",
   "execution_count": 22,
   "metadata": {
    "collapsed": false
   },
   "outputs": [
    {
     "data": {
      "image/png": "[encoded data removed]",
      "text/plain": [
       "<Figure size 432x288 with 2 Axes>"
      ]
     },
     "metadata": {},
     "output_type": "display_data"
    },
    {
     "name": "stdout",
     "output_type": "stream",
     "text": [
      "<xarray.DataArray 'SNR' ()>\n",
      "array(700.684331)\n",
      "Coordinates:\n",
      "    zp       float64 1.02\n",
      "    alpha    float64 10.2\n"
     ]
    }
   ],
   "source": [
    "SNR_xr = xr.DataArray(SNR_arr,\n",
    "                        dims = ('zp','alpha'),\n",
    "                        coords = (zp_array,alpha_arr),\n",
    "                        name = 'SNR')\n",
    "SNR_xr.plot(norm=LogNorm(vmin=1e-2,vmax=1e3),cmap='Blues')\n",
    "SNR_xr.plot.contour(levels=[3,10],colors='black')\n",
    "plt.grid(linestyle=':')\n",
    "plt.show()\n",
    "\n",
    "print(SNR_xr.sel({'alpha':10,'zp':1},method='nearest'))"
   ]
  },
  {
   "cell_type": "markdown",
   "metadata": {},
   "source": [
    "I find that at $z_{peak}= 1, \\alpha=10$, I get an SNR of ~700, whereas figure 2 of S+M seems to get SNR=3"
   ]
  },
  {
   "cell_type": "markdown",
   "metadata": {},
   "source": [
    "## Appendix: Alternate integration\n",
    "\n",
    "I get a warning message when I use scipy.integrate.quad(), I think because the PSDs have too many values for the integrator to work with order 100 samples. TI checked and the integration error is only one order of magnitude lower than the actual value. So I try it a different way that uses all of the values in the PSDs."
   ]
  },
  {
   "cell_type": "code",
   "execution_count": 18,
   "metadata": {
    "collapsed": true
   },
   "outputs": [],
   "source": [
    "f_integrand_arr = (np.power(PSD_O2_xr.freq, -14./3.) \\\n",
    "                   * np.interp(PSD_O2_xr.freq,olr_above[:,0],olr_above[:,1]) **2. \\\n",
    "                  )/ (PSD_O2_xr.Hanford * PSD_O2_xr.Livingston)\n",
    "f_integral_O2_tz = inte.trapz(f_integrand_arr) * (u.s)**3 * (u.Hz)**(4./3)\n",
    "\n",
    "f_integrand_arr = (np.power(PSD_O1_xr.freq, -14./3.) \\\n",
    "                   * np.interp(PSD_O1_xr.freq,olr_above[:,0],olr_above[:,1]) **2. \\\n",
    "                  ) / (PSD_O1_xr.Hanford * PSD_O1_xr.Livingston)\n",
    "f_integral_O1_tz = inte.trapz(f_integrand_arr) * (u.s)**3 * (u.Hz)**(4./3)"
   ]
  },
  {
   "cell_type": "code",
   "execution_count": 19,
   "metadata": {
    "collapsed": false
   },
   "outputs": [
    {
     "data": {
      "image/png": "[encoded data removed]",
      "text/plain": [
       "<Figure size 432x288 with 2 Axes>"
      ]
     },
     "metadata": {},
     "output_type": "display_data"
    }
   ],
   "source": [
    "rho_opt_O1 = prefac_inner_prod * prefac_omegaGW * np.sqrt(\n",
    "    2 * days_in_O1 * f_integral_O1_tz)\n",
    "rho_opt_O2 = prefac_inner_prod * prefac_omegaGW * np.sqrt(\n",
    "    2 * days_in_O2 * f_integral_O2_tz)\n",
    "SNR_arr = (rho_opt_O1+rho_opt_O2).to(u.m/u.m)\n",
    "\n",
    "SNR_xr = xr.DataArray(SNR_arr,\n",
    "                        dims = ('zp','alpha'),\n",
    "                        coords = (zp_array,alpha_arr),\n",
    "                        name = 'SNR')\n",
    "SNR_xr.plot(norm=LogNorm(vmin=1e-2,vmax=1e3),cmap='Blues')\n",
    "SNR_xr.plot.contour(levels=[3,10],colors='black')\n",
    "plt.grid(linestyle=':')\n",
    "plt.show()"
   ]
  },
  {
   "cell_type": "markdown",
   "metadata": {},
   "source": [
    "This doesn't help and actually makes the disagreement slightly worse! :("
   ]
  },
  {
   "cell_type": "code",
   "execution_count": null,
   "metadata": {
    "collapsed": true
   },
   "outputs": [],
   "source": []
  }
 ],
 "metadata": {
  "anaconda-cloud": {},
  "kernelspec": {
   "display_name": "Python [conda root]",
   "language": "python",
   "name": "conda-root-py"
  },
  "language_info": {
   "codemirror_mode": {
    "name": "ipython",
    "version": 2
   },
   "file_extension": ".py",
   "mimetype": "text/x-python",
   "name": "python",
   "nbconvert_exporter": "python",
   "pygments_lexer": "ipython2",
   "version": "2.7.12"
  }
 },
 "nbformat": 4,
 "nbformat_minor": 1
}
